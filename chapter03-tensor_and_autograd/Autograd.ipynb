{
  "cells": [
    {
      "cell_type": "markdown",
      "metadata": {
        "id": "ADe7YDfyHs-h"
      },
      "source": [
        "## 3.2 autograd\n",
        "\n",
        "用Tensor训练网络很方便，但从上一小节最后的线性回归例子来看，反向传播过程需要手动实现。这对于像线性回归等较为简单的模型来说，还可以应付，但实际使用中经常出现非常复杂的网络结构，此时如果手动实现反向传播，不仅费时费力，而且容易出错，难以检查。torch.autograd就是为方便用户使用，而专门开发的一套自动求导引擎，它能够根据输入和前向传播过程自动构建计算图，并执行反向传播。\n",
        "\n",
        "计算图(Computation Graph)是现代深度学习框架如PyTorch和TensorFlow等的核心，其为高效自动求导算法——反向传播(Back Propogation)提供了理论支持，了解计算图在实际写程序过程中会有极大的帮助。本节将涉及一些基础的计算图知识，但并不要求读者事先对此有深入的了解。关于计算图的基础知识推荐阅读Christopher Olah的文章[^1]。\n",
        "\n",
        "[^1]: http://colah.github.io/posts/2015-08-Backprop/\n",
        "\n",
        "\n",
        "### 3.2.1 requires_grad\n",
        "PyTorch在autograd模块中实现了计算图的相关功能，autograd中的核心数据结构是Variable。从v0.4版本起，Variable和Tensor合并。我们可以认为需要求导(requires_grad)的tensor即Variable. autograd记录对tensor的操作记录用来构建计算图。\n",
        "\n",
        "Variable提供了大部分tensor支持的函数，但其不支持部分`inplace`函数，因这些函数会修改tensor自身，而在反向传播中，variable需要缓存原来的tensor来计算反向传播梯度。如果想要计算各个Variable的梯度，只需调用根节点variable的`backward`方法，autograd会自动沿着计算图反向传播，计算每一个叶子节点的梯度。\n",
        "\n",
        "`variable.backward(gradient=None, retain_graph=None, create_graph=None)`主要有如下参数：\n",
        "\n",
        "- grad_variables：形状与variable一致，对于`y.backward()`，grad_variables相当于链式法则${dz \\over dx}={dz \\over dy} \\times {dy \\over dx}$中的$\\textbf {dz} \\over \\textbf {dy}$。grad_variables也可以是tensor或序列。\n",
        "- retain_graph：反向传播需要缓存一些中间结果，反向传播之后，这些缓存就被清空，可通过指定这个参数不清空缓存，用来多次反向传播。\n",
        "- create_graph：对反向传播过程再次构建计算图，可通过`backward of backward`实现求高阶导数。\n",
        "\n",
        "上述描述可能比较抽象，如果没有看懂，不用着急，会在本节后半部分详细介绍，下面先看几个例子。"
      ]
    },
    {
      "cell_type": "code",
      "execution_count": 4,
      "metadata": {
        "id": "c-EoVV9YHs-q"
      },
      "outputs": [],
      "source": [
        "from __future__ import print_function\n",
        "import torch as t\n",
        "import torch"
      ]
    },
    {
      "cell_type": "code",
      "execution_count": 35,
      "metadata": {
        "id": "Nd7FU9MPHs-r",
        "outputId": "4c772983-69a1-4403-d28e-f43de090820f",
        "colab": {
          "base_uri": "https://localhost:8080/"
        }
      },
      "outputs": [
        {
          "output_type": "execute_result",
          "data": {
            "text/plain": [
              "tensor([[-0.5343,  1.0587, -1.9582,  1.6431],\n",
              "        [-0.4034, -1.0234, -0.5388, -1.3284],\n",
              "        [ 0.2995,  0.2035,  1.0131, -0.8234]], requires_grad=True)"
            ]
          },
          "metadata": {},
          "execution_count": 35
        }
      ],
      "source": [
        "#在创建tensor的时候指定requires_grad\n",
        "a = t.randn(3,4, requires_grad=True)\n",
        "# 或者\n",
        "a = t.randn(3,4).requires_grad_()\n",
        "# 或者\n",
        "a = t.randn(3,4)\n",
        "a.requires_grad=True\n",
        "a"
      ]
    },
    {
      "cell_type": "code",
      "execution_count": 42,
      "metadata": {
        "id": "AFYAsp1sHs-s",
        "outputId": "327a6801-5b28-4df5-96cc-52f647bed8be",
        "colab": {
          "base_uri": "https://localhost:8080/"
        }
      },
      "outputs": [
        {
          "output_type": "execute_result",
          "data": {
            "text/plain": [
              "tensor([[0., 0., 0., 0.],\n",
              "        [0., 0., 0., 0.],\n",
              "        [0., 0., 0., 0.]], requires_grad=True)"
            ]
          },
          "metadata": {},
          "execution_count": 42
        }
      ],
      "source": [
        "b = t.zeros(3,4).requires_grad_()\n",
        "b"
      ]
    },
    {
      "cell_type": "code",
      "execution_count": 41,
      "metadata": {
        "id": "u3UK7z0WHs-t",
        "outputId": "121c1798-72aa-4dbc-a419-98ad5be97746",
        "colab": {
          "base_uri": "https://localhost:8080/"
        }
      },
      "outputs": [
        {
          "output_type": "execute_result",
          "data": {
            "text/plain": [
              "tensor([[5., 0., 0., 0.],\n",
              "        [0., 0., 0., 0.],\n",
              "        [0., 0., 0., 0.]])"
            ]
          },
          "metadata": {},
          "execution_count": 41
        }
      ],
      "source": [
        "# 也可写成c = a + b\n",
        "c = a.add(b)\n",
        "c\n",
        "g = t.zeros_like(a)\n",
        "g[0][0] = 1\n",
        "c.backward(g)\n",
        "a.grad"
      ]
    },
    {
      "cell_type": "code",
      "source": [
        ""
      ],
      "metadata": {
        "id": "R8welpwCg1Lx"
      },
      "execution_count": 39,
      "outputs": []
    },
    {
      "cell_type": "code",
      "execution_count": 27,
      "metadata": {
        "id": "s9bIis3THs-t"
      },
      "outputs": [],
      "source": [
        "d = c.sum()\n",
        "d.backward() # 反向传播"
      ]
    },
    {
      "cell_type": "code",
      "execution_count": 6,
      "metadata": {
        "id": "6Hvcfw6BHs-u",
        "outputId": "de2b9fba-0be2-41e6-a948-df470dd9f341",
        "colab": {
          "base_uri": "https://localhost:8080/"
        }
      },
      "outputs": [
        {
          "output_type": "execute_result",
          "data": {
            "text/plain": [
              "True"
            ]
          },
          "metadata": {},
          "execution_count": 6
        }
      ],
      "source": [
        "d # d还是一个requires_grad=True的tensor,对它的操作需要慎重\n",
        "d.requires_grad"
      ]
    },
    {
      "cell_type": "code",
      "execution_count": null,
      "metadata": {
        "scrolled": false,
        "id": "Szgkp4o9Hs-u",
        "outputId": "9979c7c1-a424-43f5-fa73-d342e0b9a590"
      },
      "outputs": [
        {
          "data": {
            "text/plain": [
              "tensor([[1., 1., 1., 1.],\n",
              "        [1., 1., 1., 1.],\n",
              "        [1., 1., 1., 1.]])"
            ]
          },
          "execution_count": 7,
          "metadata": {},
          "output_type": "execute_result"
        }
      ],
      "source": [
        "a.grad"
      ]
    },
    {
      "cell_type": "code",
      "execution_count": 9,
      "metadata": {
        "scrolled": false,
        "id": "_ebkDYU3Hs-u",
        "outputId": "f80cbc7c-4ae9-444e-c895-3831fb856a1f",
        "colab": {
          "base_uri": "https://localhost:8080/"
        }
      },
      "outputs": [
        {
          "output_type": "execute_result",
          "data": {
            "text/plain": [
              "(True, True, True)"
            ]
          },
          "metadata": {},
          "execution_count": 9
        }
      ],
      "source": [
        "# 此处虽然没有指定c需要求导，但c依赖于a，而a需要求导，\n",
        "# 因此c的requires_grad属性会自动设为True\n",
        "a.requires_grad, b.requires_grad, c.requires_grad"
      ]
    },
    {
      "cell_type": "code",
      "execution_count": 10,
      "metadata": {
        "id": "qMkBMwLIHs-v",
        "outputId": "6d57d464-476f-43af-b32c-7ce63473358d",
        "colab": {
          "base_uri": "https://localhost:8080/"
        }
      },
      "outputs": [
        {
          "output_type": "execute_result",
          "data": {
            "text/plain": [
              "(True, True, False)"
            ]
          },
          "metadata": {},
          "execution_count": 10
        }
      ],
      "source": [
        "# 由用户创建的variable属于叶子节点，对应的grad_fn是None\n",
        "a.is_leaf, b.is_leaf, c.is_leaf"
      ]
    },
    {
      "cell_type": "code",
      "execution_count": 12,
      "metadata": {
        "id": "eQOOZybKHs-v",
        "outputId": "187388f7-e62c-4ecf-d94e-ea274c51893e",
        "colab": {
          "base_uri": "https://localhost:8080/"
        }
      },
      "outputs": [
        {
          "output_type": "stream",
          "name": "stderr",
          "text": [
            "/usr/local/lib/python3.7/dist-packages/torch/_tensor.py:1013: UserWarning: The .grad attribute of a Tensor that is not a leaf Tensor is being accessed. Its .grad attribute won't be populated during autograd.backward(). If you indeed want the .grad field to be populated for a non-leaf Tensor, use .retain_grad() on the non-leaf Tensor. If you access the non-leaf Tensor by mistake, make sure you access the leaf Tensor instead. See github.com/pytorch/pytorch/pull/30531 for more informations. (Triggered internally at  aten/src/ATen/core/TensorBody.h:417.)\n",
            "  return self._grad\n"
          ]
        },
        {
          "output_type": "execute_result",
          "data": {
            "text/plain": [
              "True"
            ]
          },
          "metadata": {},
          "execution_count": 12
        }
      ],
      "source": [
        "# c.grad是None, 因c不是叶子节点，它的梯度是用来计算a的梯度\n",
        "# 所以虽然c.requires_grad = True,但其梯度计算完之后即被释放\n",
        "c.grad is None"
      ]
    },
    {
      "cell_type": "markdown",
      "metadata": {
        "id": "EVxzTAe9Hs-v"
      },
      "source": [
        "计算下面这个函数的导函数：\n",
        "$$\n",
        "y = x^2\\bullet e^x\n",
        "$$\n",
        "它的导函数是：\n",
        "$$\n",
        "{dy \\over dx} = 2x\\bullet e^x + x^2 \\bullet e^x\n",
        "$$\n",
        "来看看autograd的计算结果与手动求导计算结果的误差。"
      ]
    },
    {
      "cell_type": "code",
      "execution_count": 13,
      "metadata": {
        "id": "Z6HZm6NtHs-w"
      },
      "outputs": [],
      "source": [
        "def f(x):\n",
        "    '''计算y'''\n",
        "    y = x**2 * t.exp(x)\n",
        "    return y\n",
        "\n",
        "def gradf(x):\n",
        "    '''手动求导函数'''\n",
        "    dx = 2*x*t.exp(x) + x**2*t.exp(x)\n",
        "    return dx"
      ]
    },
    {
      "cell_type": "code",
      "execution_count": 14,
      "metadata": {
        "id": "JdAwrtuYHs-w",
        "outputId": "182faffa-e400-4857-963e-4a582b74d3ab",
        "colab": {
          "base_uri": "https://localhost:8080/"
        }
      },
      "outputs": [
        {
          "output_type": "execute_result",
          "data": {
            "text/plain": [
              "tensor([[4.6747e-01, 3.8078e+00, 1.2324e-01, 1.0456e+01],\n",
              "        [1.1152e+01, 6.5800e-01, 2.5802e-01, 5.3651e-03],\n",
              "        [3.6443e+00, 4.0824e-01, 5.6150e+01, 4.4221e-02]],\n",
              "       grad_fn=<MulBackward0>)"
            ]
          },
          "metadata": {},
          "execution_count": 14
        }
      ],
      "source": [
        "x = t.randn(3,4, requires_grad = True)\n",
        "y = f(x)\n",
        "y"
      ]
    },
    {
      "cell_type": "code",
      "execution_count": 15,
      "metadata": {
        "id": "jgGVvVQGHs-w",
        "outputId": "6682439d-cc8c-4f9c-ab23-bda7b5dda5e0",
        "colab": {
          "base_uri": "https://localhost:8080/"
        }
      },
      "outputs": [
        {
          "output_type": "execute_result",
          "data": {
            "text/plain": [
              "tensor([[  2.2460,  10.6285,  -0.4411,  24.2532],\n",
              "        [ 25.6031,   2.8487,  -0.4463,  -0.1357],\n",
              "        [ 10.2648,   2.0475, 104.2779,  -0.3294]])"
            ]
          },
          "metadata": {},
          "execution_count": 15
        }
      ],
      "source": [
        "y.backward(t.ones(y.size())) # gradient形状与y一致\n",
        "x.grad"
      ]
    },
    {
      "cell_type": "code",
      "execution_count": 16,
      "metadata": {
        "id": "wGwsR6U7Hs-w",
        "outputId": "6d66acd2-cd97-4e26-ad8f-642e87c0d8ba",
        "colab": {
          "base_uri": "https://localhost:8080/"
        }
      },
      "outputs": [
        {
          "output_type": "execute_result",
          "data": {
            "text/plain": [
              "tensor([[  2.2460,  10.6285,  -0.4411,  24.2532],\n",
              "        [ 25.6031,   2.8487,  -0.4463,  -0.1357],\n",
              "        [ 10.2648,   2.0475, 104.2779,  -0.3294]], grad_fn=<AddBackward0>)"
            ]
          },
          "metadata": {},
          "execution_count": 16
        }
      ],
      "source": [
        "# autograd的计算结果与利用公式手动计算的结果一致\n",
        "gradf(x) "
      ]
    },
    {
      "cell_type": "markdown",
      "metadata": {
        "id": "SQyZwEsEHs-x"
      },
      "source": [
        "### 3.2.2 计算图\n",
        "\n",
        "PyTorch中`autograd`的底层采用了计算图，计算图是一种特殊的有向无环图（DAG），用于记录算子与变量之间的关系。一般用矩形表示算子，椭圆形表示变量。如表达式$ \\textbf {z = wx + b}$可分解为$\\textbf{y = wx}$和$\\textbf{z = y + b}$，其计算图如图3-3所示，图中`MUL`，`ADD`都是算子，$\\textbf{w}$，$\\textbf{x}$，$\\textbf{b}$即变量。\n",
        "\n",
        "![图3-3:computation graph](https://github.com/guanzhe9112/pytorch-book/blob/master/chapter03-tensor_and_autograd/imgs/com_graph.svg?raw=1)"
      ]
    },
    {
      "cell_type": "markdown",
      "metadata": {
        "id": "bSTvab7rHs-x"
      },
      "source": [
        "如上有向无环图中，$\\textbf{X}$和$\\textbf{b}$是叶子节点（leaf node），这些节点通常由用户自己创建，不依赖于其他变量。$\\textbf{z}$称为根节点，是计算图的最终目标。利用链式法则很容易求得各个叶子节点的梯度。\n",
        "$${\\partial z \\over \\partial b} = 1,\\space {\\partial z \\over \\partial y} = 1\\\\\n",
        "{\\partial y \\over \\partial w }= x,{\\partial y \\over \\partial x}= w\\\\\n",
        "{\\partial z \\over \\partial x}= {\\partial z \\over \\partial y} {\\partial y \\over \\partial x}=1 * w\\\\\n",
        "{\\partial z \\over \\partial w}= {\\partial z \\over \\partial y} {\\partial y \\over \\partial w}=1 * x\\\\\n",
        "$$\n",
        "而有了计算图，上述链式求导即可利用计算图的反向传播自动完成，其过程如图3-4所示。\n",
        "\n",
        "![图3-4：计算图的反向传播](https://github.com/guanzhe9112/pytorch-book/blob/master/chapter03-tensor_and_autograd/imgs/com_graph_backward.svg?raw=1)\n",
        "\n",
        "\n",
        "在PyTorch实现中，autograd会随着用户的操作，记录生成当前variable的所有操作，并由此建立一个有向无环图。用户每进行一个操作，相应的计算图就会发生改变。更底层的实现中，图中记录了操作`Function`，每一个变量在图中的位置可通过其`grad_fn`属性在图中的位置推测得到。在反向传播过程中，autograd沿着这个图从当前变量（根节点$\\textbf{z}$）溯源，可以利用链式求导法则计算所有叶子节点的梯度。每一个前向传播操作的函数都有与之对应的反向传播函数用来计算输入的各个variable的梯度，这些函数的函数名通常以`Backward`结尾。下面结合代码学习autograd的实现细节。"
      ]
    },
    {
      "cell_type": "code",
      "execution_count": 66,
      "metadata": {
        "id": "J_3aEEHCHs-x"
      },
      "outputs": [],
      "source": [
        "x = t.ones(1)\n",
        "b = t.rand(1, requires_grad = True)\n",
        "w = t.rand(1, requires_grad = True)\n",
        "y = w * x # 等价于y=w.mul(x)\n",
        "z = y + b # 等价于z=y.add(b)"
      ]
    },
    {
      "cell_type": "code",
      "execution_count": 44,
      "metadata": {
        "scrolled": true,
        "id": "_GLC1fpFHs-y",
        "outputId": "5d91b7b6-57ae-46d4-c7fe-862453d6b94a",
        "colab": {
          "base_uri": "https://localhost:8080/"
        }
      },
      "outputs": [
        {
          "output_type": "execute_result",
          "data": {
            "text/plain": [
              "(False, True, True)"
            ]
          },
          "metadata": {},
          "execution_count": 44
        }
      ],
      "source": [
        "x.requires_grad, b.requires_grad, w.requires_grad"
      ]
    },
    {
      "cell_type": "code",
      "execution_count": 45,
      "metadata": {
        "id": "l0mngL0KHs-y",
        "outputId": "881222ab-7329-4818-ca5f-57519dadfeb3",
        "colab": {
          "base_uri": "https://localhost:8080/"
        }
      },
      "outputs": [
        {
          "output_type": "execute_result",
          "data": {
            "text/plain": [
              "True"
            ]
          },
          "metadata": {},
          "execution_count": 45
        }
      ],
      "source": [
        "# 虽然未指定y.requires_grad为True，但由于y依赖于需要求导的w\n",
        "# 故而y.requires_grad为True\n",
        "y.requires_grad"
      ]
    },
    {
      "cell_type": "code",
      "execution_count": 46,
      "metadata": {
        "id": "uPApwCKDHs-y",
        "outputId": "ab0e7dd1-4e17-4d31-f6ec-0db221a5204f",
        "colab": {
          "base_uri": "https://localhost:8080/"
        }
      },
      "outputs": [
        {
          "output_type": "execute_result",
          "data": {
            "text/plain": [
              "(True, True, True)"
            ]
          },
          "metadata": {},
          "execution_count": 46
        }
      ],
      "source": [
        "x.is_leaf, w.is_leaf, b.is_leaf"
      ]
    },
    {
      "cell_type": "code",
      "execution_count": 47,
      "metadata": {
        "id": "UAeXSlekHs-z",
        "outputId": "84ddba95-4c80-4d38-d14c-65bd46bdbaf7",
        "colab": {
          "base_uri": "https://localhost:8080/"
        }
      },
      "outputs": [
        {
          "output_type": "execute_result",
          "data": {
            "text/plain": [
              "(False, False)"
            ]
          },
          "metadata": {},
          "execution_count": 47
        }
      ],
      "source": [
        "y.is_leaf, z.is_leaf"
      ]
    },
    {
      "cell_type": "code",
      "execution_count": 48,
      "metadata": {
        "id": "tTvRx2BrHs-z",
        "outputId": "b2d3ad33-fa75-4a92-87ad-4e5c242c7551",
        "colab": {
          "base_uri": "https://localhost:8080/"
        }
      },
      "outputs": [
        {
          "output_type": "execute_result",
          "data": {
            "text/plain": [
              "<AddBackward0 at 0x7f90ae5e9810>"
            ]
          },
          "metadata": {},
          "execution_count": 48
        }
      ],
      "source": [
        "# grad_fn可以查看这个variable的反向传播函数，\n",
        "# z是add函数的输出，所以它的反向传播函数是AddBackward\n",
        "z.grad_fn "
      ]
    },
    {
      "cell_type": "code",
      "execution_count": 57,
      "metadata": {
        "scrolled": true,
        "id": "FCOvdYSqHs-z",
        "outputId": "bd7bbc3b-4270-4e1f-ccbd-89739fc40b27",
        "colab": {
          "base_uri": "https://localhost:8080/"
        }
      },
      "outputs": [
        {
          "output_type": "stream",
          "name": "stdout",
          "text": [
            "None\n"
          ]
        },
        {
          "output_type": "execute_result",
          "data": {
            "text/plain": [
              "((<MulBackward0 at 0x7f90ac891450>, 0),\n",
              " (<AccumulateGrad at 0x7f90ac891710>, 0))"
            ]
          },
          "metadata": {},
          "execution_count": 57
        }
      ],
      "source": [
        "# next_functions保存grad_fn的输入，是一个tuple，tuple的元素也是Function\n",
        "# 第一个是y，它是乘法(mul)的输出，所以对应的反向传播函数y.grad_fn是MulBackward\n",
        "# 第二个是b，它是叶子节点，由用户创建，grad_fn为None，但是有\n",
        "print(b.grad_fn)\n",
        "z.grad_fn.next_functions "
      ]
    },
    {
      "cell_type": "code",
      "execution_count": null,
      "metadata": {
        "id": "DMBWiRlbHs-z",
        "outputId": "d9f2c273-e684-4386-8622-f492b42715fe"
      },
      "outputs": [
        {
          "data": {
            "text/plain": [
              "True"
            ]
          },
          "execution_count": 22,
          "metadata": {},
          "output_type": "execute_result"
        }
      ],
      "source": [
        "# variable的grad_fn对应着和图中的function相对应\n",
        "z.grad_fn.next_functions[0][0] == y.grad_fn"
      ]
    },
    {
      "cell_type": "code",
      "execution_count": 50,
      "metadata": {
        "scrolled": true,
        "id": "wj3D7aLNHs-0",
        "outputId": "ca4b6454-87ca-47e1-fe41-e2450441966e",
        "colab": {
          "base_uri": "https://localhost:8080/"
        }
      },
      "outputs": [
        {
          "output_type": "execute_result",
          "data": {
            "text/plain": [
              "((<AccumulateGrad at 0x7f90ac8be610>, 0), (None, 0))"
            ]
          },
          "metadata": {},
          "execution_count": 50
        }
      ],
      "source": [
        "# 第一个是w，叶子节点，需要求导，梯度是累加的\n",
        "# 第二个是x，叶子节点，不需要求导，所以为None\n",
        "y.grad_fn.next_functions"
      ]
    },
    {
      "cell_type": "code",
      "execution_count": 51,
      "metadata": {
        "id": "QIneO71yHs-0",
        "outputId": "4399a94f-6684-442a-dfc1-90f892b5f392",
        "colab": {
          "base_uri": "https://localhost:8080/"
        }
      },
      "outputs": [
        {
          "output_type": "execute_result",
          "data": {
            "text/plain": [
              "(None, None)"
            ]
          },
          "metadata": {},
          "execution_count": 51
        }
      ],
      "source": [
        "# 叶子节点的grad_fn是None\n",
        "w.grad_fn,x.grad_fn"
      ]
    },
    {
      "cell_type": "markdown",
      "metadata": {
        "id": "gxpF6D8BHs-0"
      },
      "source": [
        "计算w的梯度的时候，需要用到x的数值(${\\partial y\\over \\partial w} = x $)，这些数值在前向过程中会保存成buffer，在计算完梯度之后会自动清空。为了能够多次反向传播需要指定`retain_graph`来保留这些buffer。"
      ]
    },
    {
      "cell_type": "code",
      "execution_count": 68,
      "metadata": {
        "scrolled": true,
        "id": "GplxkahgHs-0",
        "outputId": "fab7ccbf-9ad5-4324-bbd5-71d6cba4e31e",
        "colab": {
          "base_uri": "https://localhost:8080/"
        }
      },
      "outputs": [
        {
          "output_type": "execute_result",
          "data": {
            "text/plain": [
              "tensor([2.])"
            ]
          },
          "metadata": {},
          "execution_count": 68
        }
      ],
      "source": [
        "# 使用retain_graph来保存buffer\n",
        "z.backward(retain_graph=True)\n",
        "w.grad"
      ]
    },
    {
      "cell_type": "code",
      "execution_count": null,
      "metadata": {
        "id": "KJv84oBmHs-0"
      },
      "outputs": [],
      "source": [
        "# 多次反向传播，梯度累加，这也就是w中AccumulateGrad标识的含义\n",
        "z.backward()\n",
        "w.grad"
      ]
    },
    {
      "cell_type": "markdown",
      "metadata": {
        "id": "e-LhfJ1NHs-1"
      },
      "source": [
        "PyTorch使用的是动态图，它的计算图在每次前向传播时都是从头开始构建，所以它能够使用Python控制语句（如for、if等）根据需求创建计算图。这点在自然语言处理领域中很有用，它意味着你不需要事先构建所有可能用到的图的路径，图在运行时才构建。"
      ]
    },
    {
      "cell_type": "code",
      "execution_count": 70,
      "metadata": {
        "id": "LWM8UmLfHs-1",
        "outputId": "719b1b04-0b0e-491b-ebdd-38c7854ac31e",
        "colab": {
          "base_uri": "https://localhost:8080/"
        }
      },
      "outputs": [
        {
          "output_type": "execute_result",
          "data": {
            "text/plain": [
              "tensor([1.])"
            ]
          },
          "metadata": {},
          "execution_count": 70
        }
      ],
      "source": [
        "def abs(x):\n",
        "    if x.data[0]>0: return x\n",
        "    else: return -x\n",
        "x = t.ones(1,requires_grad=True)\n",
        "y = abs(x)\n",
        "y.backward()\n",
        "x.grad"
      ]
    },
    {
      "cell_type": "code",
      "execution_count": 71,
      "metadata": {
        "id": "aLLM0upnHs-1",
        "outputId": "de64c2d0-1789-4035-966f-f0350fc97bf9",
        "colab": {
          "base_uri": "https://localhost:8080/"
        }
      },
      "outputs": [
        {
          "output_type": "stream",
          "name": "stdout",
          "text": [
            "tensor([-1.])\n"
          ]
        }
      ],
      "source": [
        "x = -1*t.ones(1)\n",
        "x = x.requires_grad_()\n",
        "y = abs(x)\n",
        "y.backward()\n",
        "print(x.grad)"
      ]
    },
    {
      "cell_type": "code",
      "execution_count": 72,
      "metadata": {
        "id": "a1l9aWuzHs-1",
        "outputId": "8dba9264-443e-43ef-f664-307756ca97ce",
        "colab": {
          "base_uri": "https://localhost:8080/"
        }
      },
      "outputs": [
        {
          "output_type": "execute_result",
          "data": {
            "text/plain": [
              "tensor([1.], grad_fn=<NegBackward0>)"
            ]
          },
          "metadata": {},
          "execution_count": 72
        }
      ],
      "source": [
        "y"
      ]
    },
    {
      "cell_type": "code",
      "execution_count": 73,
      "metadata": {
        "id": "wf9Dh8jpHs-1",
        "outputId": "9eba5e79-1371-41fe-eae9-c45274689cc1",
        "colab": {
          "base_uri": "https://localhost:8080/"
        }
      },
      "outputs": [
        {
          "output_type": "execute_result",
          "data": {
            "text/plain": [
              "tensor([-1.], requires_grad=True)"
            ]
          },
          "metadata": {},
          "execution_count": 73
        }
      ],
      "source": [
        "x"
      ]
    },
    {
      "cell_type": "code",
      "execution_count": 74,
      "metadata": {
        "id": "PgABAWuEHs-2",
        "outputId": "bb7e5d6c-4257-4845-983a-3ee296b63c10",
        "colab": {
          "base_uri": "https://localhost:8080/"
        }
      },
      "outputs": [
        {
          "output_type": "execute_result",
          "data": {
            "text/plain": [
              "True"
            ]
          },
          "metadata": {},
          "execution_count": 74
        }
      ],
      "source": [
        "x.requires_grad"
      ]
    },
    {
      "cell_type": "code",
      "execution_count": 75,
      "metadata": {
        "id": "-M0e4CgXHs-2",
        "outputId": "b1ded0e8-8b66-4411-abdc-fbd69b89d89b",
        "colab": {
          "base_uri": "https://localhost:8080/"
        }
      },
      "outputs": [
        {
          "output_type": "execute_result",
          "data": {
            "text/plain": [
              "True"
            ]
          },
          "metadata": {},
          "execution_count": 75
        }
      ],
      "source": [
        "x.requires_grad\n",
        "cc=x*3\n",
        "cc.requires_grad"
      ]
    },
    {
      "cell_type": "code",
      "execution_count": 76,
      "metadata": {
        "id": "LvxLXOfTHs-2",
        "outputId": "2c24b39d-b678-4aa7-d3b3-3de49e296e1d",
        "colab": {
          "base_uri": "https://localhost:8080/"
        }
      },
      "outputs": [
        {
          "output_type": "execute_result",
          "data": {
            "text/plain": [
              "tensor([0., 0., 0., 6., 3., 2.])"
            ]
          },
          "metadata": {},
          "execution_count": 76
        }
      ],
      "source": [
        "def f(x):\n",
        "    result = 1\n",
        "    for ii in x:\n",
        "        if ii.item()>0: \n",
        "            result=ii*result\n",
        "    return result\n",
        "x = t.arange(-2,4,dtype=t.float32).requires_grad_()\n",
        "y = f(x) # y = x[3]*x[4]*x[5]\n",
        "y.backward()\n",
        "x.grad"
      ]
    },
    {
      "cell_type": "markdown",
      "metadata": {
        "id": "9yDxeY-fHs-2"
      },
      "source": [
        "变量的`requires_grad`属性默认为False，如果某一个节点requires_grad被设置为True，那么所有依赖它的节点`requires_grad`都是True。这其实很好理解，对于$ \\textbf{x}\\to \\textbf{y} \\to \\textbf{z}$，x.requires_grad = True，当需要计算$\\partial z \\over \\partial x$时，根据链式法则，$\\frac{\\partial z}{\\partial x} = \\frac{\\partial z}{\\partial y} \\frac{\\partial y}{\\partial x}$，自然也需要求$ \\frac{\\partial z}{\\partial y}$，所以y.requires_grad会被自动标为True. \n",
        "\n",
        "\n",
        "\n",
        "有些时候我们可能不希望autograd对tensor求导。认为求导需要缓存许多中间结构，增加额外的内存/显存开销，那么我们可以关闭自动求导。对于不需要反向传播的情景（如inference，即测试推理时），关闭自动求导可实现一定程度的速度提升，并节省约一半显存，因其不需要分配空间计算梯度。"
      ]
    },
    {
      "cell_type": "code",
      "execution_count": 90,
      "metadata": {
        "id": "Eg5Eei8-Hs-2",
        "outputId": "a9bcaac5-6e38-4cdb-a94b-afd2f8cbf10d",
        "colab": {
          "base_uri": "https://localhost:8080/"
        }
      },
      "outputs": [
        {
          "output_type": "execute_result",
          "data": {
            "text/plain": [
              "(True, True, True)"
            ]
          },
          "metadata": {},
          "execution_count": 90
        }
      ],
      "source": [
        "x = t.ones(1, requires_grad=True)\n",
        "w = t.rand(1, requires_grad=True)\n",
        "y = x * w\n",
        "# y依赖于w，而w.requires_grad = True\n",
        "x.requires_grad, w.requires_grad, y.requires_grad"
      ]
    },
    {
      "cell_type": "code",
      "execution_count": 91,
      "metadata": {
        "id": "kvnTVGTXHs-3",
        "outputId": "23846a9a-7503-49a9-e82a-d534d65ad88d",
        "colab": {
          "base_uri": "https://localhost:8080/"
        }
      },
      "outputs": [
        {
          "output_type": "execute_result",
          "data": {
            "text/plain": [
              "(False, True, False)"
            ]
          },
          "metadata": {},
          "execution_count": 91
        }
      ],
      "source": [
        "with t.no_grad():\n",
        "    x = t.ones(1)\n",
        "    w = t.rand(1, requires_grad = True)\n",
        "    y = x * w\n",
        "# y依赖于w和x，虽然w.requires_grad = True，但是y的requires_grad依旧为False\n",
        "x.requires_grad, w.requires_grad, y.requires_grad"
      ]
    },
    {
      "cell_type": "code",
      "execution_count": 92,
      "metadata": {
        "id": "HgYg-uOSHs-3"
      },
      "outputs": [],
      "source": [
        "t.no_grad??"
      ]
    },
    {
      "cell_type": "code",
      "execution_count": 93,
      "metadata": {
        "id": "_M4U0q2WHs-3",
        "outputId": "c98daa55-1f8f-42e7-82b6-9258b5a8263b",
        "colab": {
          "base_uri": "https://localhost:8080/"
        }
      },
      "outputs": [
        {
          "output_type": "execute_result",
          "data": {
            "text/plain": [
              "(False, True, False)"
            ]
          },
          "metadata": {},
          "execution_count": 93
        }
      ],
      "source": [
        "t.set_grad_enabled(False)\n",
        "x = t.ones(1)\n",
        "w = t.rand(1, requires_grad = True)\n",
        "y = x * w\n",
        "# y依赖于w和x，虽然w.requires_grad = True，但是y的requires_grad依旧为False\n",
        "x.requires_grad, w.requires_grad, y.requires_grad\n"
      ]
    },
    {
      "cell_type": "code",
      "execution_count": 110,
      "metadata": {
        "id": "i9sDwY5QHs-3",
        "outputId": "1e8b1ba8-0d12-476a-daba-72c23ca2d357",
        "colab": {
          "base_uri": "https://localhost:8080/"
        }
      },
      "outputs": [
        {
          "output_type": "execute_result",
          "data": {
            "text/plain": [
              "<torch.autograd.grad_mode.set_grad_enabled at 0x7f90acddb7d0>"
            ]
          },
          "metadata": {},
          "execution_count": 110
        }
      ],
      "source": [
        "# 恢复默认配置\n",
        "t.set_grad_enabled(True)"
      ]
    },
    {
      "cell_type": "markdown",
      "metadata": {
        "id": "IoRS1UhjHs-3"
      },
      "source": [
        "如果我们想要修改tensor的数值，但是又不希望被autograd记录，那么我么可以对tensor.data进行操作"
      ]
    },
    {
      "cell_type": "code",
      "execution_count": 118,
      "metadata": {
        "id": "G-LeHgAlHs-3",
        "outputId": "f2f956dd-68c9-4412-903b-3060a9e1c35c",
        "colab": {
          "base_uri": "https://localhost:8080/"
        }
      },
      "outputs": [
        {
          "output_type": "execute_result",
          "data": {
            "text/plain": [
              "tensor([[1., 1., 1., 1.],\n",
              "        [1., 1., 1., 1.],\n",
              "        [1., 1., 1., 1.]])"
            ]
          },
          "metadata": {},
          "execution_count": 118
        }
      ],
      "source": [
        "a = t.ones(3,4,requires_grad=True)\n",
        "b = t.ones(3,4,requires_grad=True)\n",
        "c = a * b\n",
        "\n",
        "a.data # 还是一个tensor"
      ]
    },
    {
      "cell_type": "code",
      "execution_count": 112,
      "metadata": {
        "id": "5S3DxXh4Hs-4",
        "outputId": "7c6fe15e-7586-4cf0-f4bf-7e37fa551d51",
        "colab": {
          "base_uri": "https://localhost:8080/"
        }
      },
      "outputs": [
        {
          "output_type": "execute_result",
          "data": {
            "text/plain": [
              "False"
            ]
          },
          "metadata": {},
          "execution_count": 112
        }
      ],
      "source": [
        "a.data.requires_grad # 但是已经是独立于计算图之外"
      ]
    },
    {
      "cell_type": "code",
      "execution_count": 113,
      "metadata": {
        "id": "n7KDi308Hs-4",
        "outputId": "324befd5-b619-47de-fc35-4d978781a020",
        "colab": {
          "base_uri": "https://localhost:8080/"
        }
      },
      "outputs": [
        {
          "output_type": "stream",
          "name": "stdout",
          "text": [
            "False <built-in method type of Tensor object at 0x7f90ac80a170>\n"
          ]
        }
      ],
      "source": [
        "d = a.data.sigmoid_() # sigmoid_ 是个inplace操作，会修改a自身的值\n",
        "print(d.requires_grad, d.type)"
      ]
    },
    {
      "cell_type": "code",
      "execution_count": 114,
      "metadata": {
        "id": "jOcxnBf_Hs-4",
        "outputId": "2ab4a0f9-e609-4523-d952-0e278c3d3157",
        "colab": {
          "base_uri": "https://localhost:8080/"
        }
      },
      "outputs": [
        {
          "output_type": "execute_result",
          "data": {
            "text/plain": [
              "tensor([[0.7311, 0.7311, 0.7311, 0.7311],\n",
              "        [0.7311, 0.7311, 0.7311, 0.7311],\n",
              "        [0.7311, 0.7311, 0.7311, 0.7311]], requires_grad=True)"
            ]
          },
          "metadata": {},
          "execution_count": 114
        }
      ],
      "source": [
        "a "
      ]
    },
    {
      "cell_type": "markdown",
      "metadata": {
        "id": "bIZMYK7_Hs-4"
      },
      "source": [
        "如果我们希望对tensor，但是又不希望被记录, 可以使用tensor.data 或者tensor.detach()"
      ]
    },
    {
      "cell_type": "code",
      "execution_count": 115,
      "metadata": {
        "id": "1PHY2FmmHs-4",
        "outputId": "06711ede-f119-4c99-aa96-3c92e4332164",
        "colab": {
          "base_uri": "https://localhost:8080/"
        }
      },
      "outputs": [
        {
          "output_type": "execute_result",
          "data": {
            "text/plain": [
              "True"
            ]
          },
          "metadata": {},
          "execution_count": 115
        }
      ],
      "source": [
        "a.requires_grad"
      ]
    },
    {
      "cell_type": "code",
      "execution_count": 119,
      "metadata": {
        "id": "QnX_k3LPHs-5",
        "outputId": "9e682cc8-f1b8-4111-8e3c-2c75318f22a1",
        "colab": {
          "base_uri": "https://localhost:8080/"
        }
      },
      "outputs": [
        {
          "output_type": "execute_result",
          "data": {
            "text/plain": [
              "False"
            ]
          },
          "metadata": {},
          "execution_count": 119
        }
      ],
      "source": [
        "# 近似于 tensor=a.data, 但是如果tensor被修改，backward可能会报错\n",
        "tensor = a.detach()\n",
        "tensor.requires_grad"
      ]
    },
    {
      "cell_type": "code",
      "execution_count": 106,
      "metadata": {
        "id": "CLDY-jrmHs-5"
      },
      "outputs": [],
      "source": [
        "# 统计tensor的一些指标，不希望被记录\n",
        "mean = tensor.mean()\n",
        "std = tensor.std()\n",
        "maximum = tensor.max()"
      ]
    },
    {
      "cell_type": "code",
      "execution_count": 120,
      "metadata": {
        "id": "M6tKzRpKHs-5"
      },
      "outputs": [],
      "source": [
        "tensor[0]=1\n",
        "# 下面会报错：　RuntimeError: one of the variables needed for gradient\n",
        "#             computation has been modified by an inplace operation\n",
        "#　因为 c=a*b, b的梯度取决于a，现在修改了tensor，其实也就是修改了a，梯度不再准确\n",
        "# c.sum().backward() "
      ]
    },
    {
      "cell_type": "markdown",
      "metadata": {
        "id": "a73eLBJtHs-6"
      },
      "source": [
        "在反向传播过程中非叶子节点的导数计算完之后即被清空。若想查看这些变量的梯度，有两种方法：\n",
        "- 使用autograd.grad函数\n",
        "- 使用hook\n",
        "\n",
        "`autograd.grad`和`hook`方法都是很强大的工具，更详细的用法参考官方api文档，这里举例说明基础的使用。推荐使用`hook`方法，但是在实际使用中应尽量避免修改grad的值。"
      ]
    },
    {
      "cell_type": "code",
      "execution_count": 131,
      "metadata": {
        "id": "FdpXttSLHs-6",
        "outputId": "8aeb525f-3201-4661-d2a7-37c89caa62b0",
        "colab": {
          "base_uri": "https://localhost:8080/"
        }
      },
      "outputs": [
        {
          "output_type": "stream",
          "name": "stdout",
          "text": [
            "tensor([1., 1., 1.], requires_grad=True) tensor([0.3459, 0.0433, 0.7405], requires_grad=True)\n"
          ]
        },
        {
          "output_type": "execute_result",
          "data": {
            "text/plain": [
              "(True, True, True)"
            ]
          },
          "metadata": {},
          "execution_count": 131
        }
      ],
      "source": [
        "x = t.ones(3, requires_grad=True)\n",
        "w = t.rand(3, requires_grad=True)\n",
        "y = x * w\n",
        "# y依赖于w，而w.requires_grad = True\n",
        "z = y.sum()\n",
        "print(x, w)\n",
        "x.requires_grad, w.requires_grad, y.requires_grad\n"
      ]
    },
    {
      "cell_type": "code",
      "execution_count": 132,
      "metadata": {
        "id": "IbSP__tdHs-7",
        "outputId": "c0ced585-f730-413b-eb5d-e622b681f780",
        "colab": {
          "base_uri": "https://localhost:8080/"
        }
      },
      "outputs": [
        {
          "output_type": "stream",
          "name": "stderr",
          "text": [
            "/usr/local/lib/python3.7/dist-packages/torch/_tensor.py:1013: UserWarning: The .grad attribute of a Tensor that is not a leaf Tensor is being accessed. Its .grad attribute won't be populated during autograd.backward(). If you indeed want the .grad field to be populated for a non-leaf Tensor, use .retain_grad() on the non-leaf Tensor. If you access the non-leaf Tensor by mistake, make sure you access the leaf Tensor instead. See github.com/pytorch/pytorch/pull/30531 for more informations. (Triggered internally at  aten/src/ATen/core/TensorBody.h:417.)\n",
            "  return self._grad\n"
          ]
        },
        {
          "output_type": "execute_result",
          "data": {
            "text/plain": [
              "(tensor([0.3459, 0.0433, 0.7405]), tensor([1., 1., 1.]), None)"
            ]
          },
          "metadata": {},
          "execution_count": 132
        }
      ],
      "source": [
        "# 非叶子节点grad计算完之后自动清空，y.grad是None\n",
        "z.backward()\n",
        "(x.grad, w.grad, y.grad)"
      ]
    },
    {
      "cell_type": "code",
      "execution_count": 127,
      "metadata": {
        "id": "_ARTg4BuHs-7",
        "outputId": "64a49f2d-a6f1-4077-f0da-626cea84cc6f",
        "colab": {
          "base_uri": "https://localhost:8080/"
        }
      },
      "outputs": [
        {
          "output_type": "execute_result",
          "data": {
            "text/plain": [
              "(tensor([1., 1., 1.]),)"
            ]
          },
          "metadata": {},
          "execution_count": 127
        }
      ],
      "source": [
        "# 第一种方法：使用grad获取中间变量的梯度\n",
        "x = t.ones(3, requires_grad=True)\n",
        "w = t.rand(3, requires_grad=True)\n",
        "y = x * w\n",
        "z = y.sum()\n",
        "# z对y的梯度，隐式调用backward()\n",
        "t.autograd.grad(z, y)"
      ]
    },
    {
      "cell_type": "code",
      "execution_count": 128,
      "metadata": {
        "id": "shqppZhqHs-7",
        "outputId": "b4fd9ae3-d11b-49bc-cfb0-308ba527e58d",
        "colab": {
          "base_uri": "https://localhost:8080/"
        }
      },
      "outputs": [
        {
          "output_type": "stream",
          "name": "stdout",
          "text": [
            "y的梯度： tensor([1., 1., 1.])\n"
          ]
        }
      ],
      "source": [
        "# 第二种方法：使用hook\n",
        "# hook是一个函数，输入是梯度，不应该有返回值\n",
        "def variable_hook(grad):\n",
        "    print('y的梯度：',grad)\n",
        "\n",
        "x = t.ones(3, requires_grad=True)\n",
        "w = t.rand(3, requires_grad=True)\n",
        "y = x * w\n",
        "# 注册hook\n",
        "hook_handle = y.register_hook(variable_hook)\n",
        "z = y.sum()\n",
        "z.backward()\n",
        "\n",
        "# 除非你每次都要用hook，否则用完之后记得移除hook\n",
        "hook_handle.remove()"
      ]
    },
    {
      "cell_type": "markdown",
      "metadata": {
        "id": "WSZrs1ZmHs-7"
      },
      "source": [
        "最后再来看看variable中grad属性和backward函数`grad_variables`参数的含义，这里直接下结论：\n",
        "\n",
        "- variable $\\textbf{x}$的梯度是目标函数${f(x)} $对$\\textbf{x}$的梯度，$\\frac{df(x)}{dx} = (\\frac {df(x)}{dx_0},\\frac {df(x)}{dx_1},...,\\frac {df(x)}{dx_N})$，形状和$\\textbf{x}$一致。\n",
        "- 对于y.backward(grad_variables)中的grad_variables相当于链式求导法则中的$\\frac{\\partial z}{\\partial x} = \\frac{\\partial z}{\\partial y} \\frac{\\partial y}{\\partial x}$中的$\\frac{\\partial z}{\\partial y}$。z是目标函数，一般是一个标量，故而$\\frac{\\partial z}{\\partial y}$的形状与variable $\\textbf{y}$的形状一致。`z.backward()`在一定程度上等价于y.backward(grad_y)。`z.backward()`省略了grad_variables参数，是因为$z$是一个标量，而$\\frac{\\partial z}{\\partial z} = 1$"
      ]
    },
    {
      "cell_type": "code",
      "execution_count": 129,
      "metadata": {
        "scrolled": true,
        "id": "nh-Y2yyZHs-7",
        "outputId": "4b70a529-d7cc-4217-bbd3-70e43de06808",
        "colab": {
          "base_uri": "https://localhost:8080/"
        }
      },
      "outputs": [
        {
          "output_type": "execute_result",
          "data": {
            "text/plain": [
              "tensor([2., 4., 6.])"
            ]
          },
          "metadata": {},
          "execution_count": 129
        }
      ],
      "source": [
        "x = t.arange(0,3, requires_grad=True,dtype=t.float)\n",
        "y = x**2 + x*2\n",
        "z = y.sum()\n",
        "z.backward() # 从z开始反向传播\n",
        "x.grad"
      ]
    },
    {
      "cell_type": "code",
      "execution_count": 130,
      "metadata": {
        "scrolled": true,
        "id": "OwfqSfdXHs-8",
        "outputId": "f7f7dd42-e161-46a5-9b43-e0697473a544",
        "colab": {
          "base_uri": "https://localhost:8080/"
        }
      },
      "outputs": [
        {
          "output_type": "execute_result",
          "data": {
            "text/plain": [
              "tensor([2., 4., 6.])"
            ]
          },
          "metadata": {},
          "execution_count": 130
        }
      ],
      "source": [
        "x = t.arange(0,3, requires_grad=True,dtype=t.float)\n",
        "y = x**2 + x*2\n",
        "z = y.sum()\n",
        "y_gradient = t.Tensor([1,1,1]) # dz/dy\n",
        "y.backward(y_gradient) #从y开始反向传播\n",
        "x.grad"
      ]
    },
    {
      "cell_type": "markdown",
      "metadata": {
        "id": "4vIixtHWHs-8"
      },
      "source": [
        "另外值得注意的是，只有对variable的操作才能使用autograd，如果对variable的data直接进行操作，将无法使用反向传播。除了对参数初始化，一般我们不会修改variable.data的值。"
      ]
    },
    {
      "cell_type": "markdown",
      "metadata": {
        "id": "WDlmlX1OHs-8"
      },
      "source": [
        "在PyTorch中计算图的特点可总结如下：\n",
        "\n",
        "- autograd根据用户对variable的操作构建其计算图。对变量的操作抽象为`Function`。\n",
        "- 对于那些不是任何函数(Function)的输出，由用户创建的节点称为叶子节点，叶子节点的`grad_fn`为None。叶子节点中需要求导的variable，具有`AccumulateGrad`标识，因其梯度是累加的。\n",
        "- variable默认是不需要求导的，即`requires_grad`属性默认为False，如果某一个节点requires_grad被设置为True，那么所有依赖它的节点`requires_grad`都为True。\n",
        "- variable的`volatile`属性默认为False，如果某一个variable的`volatile`属性被设为True，那么所有依赖它的节点`volatile`属性都为True。volatile属性为True的节点不会求导，volatile的优先级比`requires_grad`高。\n",
        "- 多次反向传播时，梯度是累加的。反向传播的中间缓存会被清空，为进行多次反向传播需指定`retain_graph`=True来保存这些缓存。\n",
        "- 非叶子节点的梯度计算完之后即被清空，可以使用`autograd.grad`或`hook`技术获取非叶子节点的值。\n",
        "- variable的grad与data形状一致，应避免直接修改variable.data，因为对data的直接操作无法利用autograd进行反向传播\n",
        "- 反向传播函数`backward`的参数`grad_variables`可以看成链式求导的中间结果，如果是标量，可以省略，默认为1\n",
        "- PyTorch采用动态图设计，可以很方便地查看中间层的输出，动态的设计计算图结构。\n",
        "\n",
        "这些知识不懂大多数情况下也不会影响对pytorch的使用，但是掌握这些知识有助于更好的理解pytorch，并有效的避开很多陷阱"
      ]
    },
    {
      "cell_type": "markdown",
      "metadata": {
        "id": "8Z33tPfvHs-8"
      },
      "source": [
        "### 3.2.3 扩展autograd\n",
        "\n",
        "\n",
        "目前绝大多数函数都可以使用`autograd`实现反向求导，但如果需要自己写一个复杂的函数，不支持自动反向求导怎么办? 写一个`Function`，实现它的前向传播和反向传播代码，`Function`对应于计算图中的矩形， 它接收参数，计算并返回结果。下面给出一个例子。\n",
        "\n",
        "```python\n",
        "\n",
        "class Mul(Function):\n",
        "                                                            \n",
        "    @staticmethod\n",
        "    def forward(ctx, w, x, b, x_requires_grad = True):\n",
        "        ctx.x_requires_grad = x_requires_grad\n",
        "        ctx.save_for_backward(w,x)\n",
        "        output = w * x + b\n",
        "        return output\n",
        "        \n",
        "    @staticmethod\n",
        "    def backward(ctx, grad_output):\n",
        "        w,x = ctx.saved_tensors\n",
        "        grad_w = grad_output * x\n",
        "        if ctx.x_requires_grad:\n",
        "            grad_x = grad_output * w\n",
        "        else:\n",
        "            grad_x = None\n",
        "        grad_b = grad_output * 1\n",
        "        return grad_w, grad_x, grad_b, None\n",
        "```\n",
        "\n",
        "分析如下：\n",
        "\n",
        "- 自定义的Function需要继承autograd.Function，没有构造函数`__init__`，forward和backward函数都是静态方法\n",
        "- backward函数的输出和forward函数的输入一一对应，backward函数的输入和forward函数的输出一一对应\n",
        "- backward函数的grad_output参数即t.autograd.backward中的`grad_variables`\n",
        "- 如果某一个输入不需要求导，直接返回None，如forward中的输入参数x_requires_grad显然无法对它求导，直接返回None即可\n",
        "- 反向传播可能需要利用前向传播的某些中间结果，需要进行保存，否则前向传播结束后这些对象即被释放\n",
        "\n",
        "Function的使用利用Function.apply(variable)"
      ]
    },
    {
      "cell_type": "code",
      "execution_count": 151,
      "metadata": {
        "id": "BipH-guTHs-8"
      },
      "outputs": [],
      "source": [
        "from torch.autograd import Function\n",
        "class MultiplyAdd(Function):\n",
        "                                                            \n",
        "    @staticmethod\n",
        "    def forward(ctx, w, x, b):                              \n",
        "        ctx.save_for_backward(w,x)\n",
        "        output = w * x + b\n",
        "        return output\n",
        "        \n",
        "    @staticmethod\n",
        "    def backward(ctx, grad_output):                         \n",
        "        w,x = ctx.saved_tensors\n",
        "        grad_w = grad_output * x\n",
        "        grad_x = grad_output * w\n",
        "        grad_b = grad_output * 1\n",
        "        return grad_w, grad_x, grad_b                       "
      ]
    },
    {
      "cell_type": "code",
      "execution_count": 160,
      "metadata": {
        "scrolled": true,
        "id": "j6KCgSfvHs-9",
        "outputId": "988b5feb-d469-4e53-df88-2cf9a52254cd",
        "colab": {
          "base_uri": "https://localhost:8080/"
        }
      },
      "outputs": [
        {
          "output_type": "stream",
          "name": "stdout",
          "text": [
            "tensor([1., 1., 1.]) tensor([0.6783, 0.3889, 0.0322], requires_grad=True) tensor([0.2125], requires_grad=True)\n"
          ]
        },
        {
          "output_type": "execute_result",
          "data": {
            "text/plain": [
              "(None, tensor([1., 1., 1.]), tensor([3.]))"
            ]
          },
          "metadata": {},
          "execution_count": 160
        }
      ],
      "source": [
        "x = t.ones(3)\n",
        "w = t.rand(3, requires_grad = True)\n",
        "b = t.rand(1, requires_grad = True)\n",
        "# 开始前向传播\n",
        "z=MultiplyAdd.apply(w, x, b)\n",
        "# 开始反向传播\n",
        "z.backward(t.tensor([1,1,1]))\n",
        "\n",
        "print(x, w, b)\n",
        "# x不需要求导，中间过程还是会计算它的导数，但随后被清空\n",
        "x.grad, w.grad, b.grad"
      ]
    },
    {
      "cell_type": "code",
      "source": [
        "x = t.ones(3)\n",
        "w = t.rand(3, 1, requires_grad = True)\n",
        "w * x\n",
        "print(w, x, w * x)"
      ],
      "metadata": {
        "id": "gECk4Yw5SJxf",
        "outputId": "d2dc34b2-a760-4bbf-a66e-5a1a87e4f679",
        "colab": {
          "base_uri": "https://localhost:8080/"
        }
      },
      "execution_count": 163,
      "outputs": [
        {
          "output_type": "stream",
          "name": "stdout",
          "text": [
            "tensor([[0.2516],\n",
            "        [0.9282],\n",
            "        [0.5508]], requires_grad=True) tensor([1., 1., 1.]) tensor([[0.2516, 0.2516, 0.2516],\n",
            "        [0.9282, 0.9282, 0.9282],\n",
            "        [0.5508, 0.5508, 0.5508]], grad_fn=<MulBackward0>)\n"
          ]
        }
      ]
    },
    {
      "cell_type": "code",
      "execution_count": 164,
      "metadata": {
        "id": "dhQ7HsmsHs-9",
        "outputId": "e32815a1-7205-44d7-a4f5-4166b5c70e8d",
        "colab": {
          "base_uri": "https://localhost:8080/"
        }
      },
      "outputs": [
        {
          "output_type": "execute_result",
          "data": {
            "text/plain": [
              "(tensor([1.]), tensor([0.3071], grad_fn=<MulBackward0>), tensor([1.]))"
            ]
          },
          "metadata": {},
          "execution_count": 164
        }
      ],
      "source": [
        "x = t.ones(1)\n",
        "w = t.rand(1, requires_grad = True)\n",
        "b = t.rand(1, requires_grad = True)\n",
        "#print('开始前向传播')\n",
        "z=MultiplyAdd.apply(w,x,b)\n",
        "#print('开始反向传播')\n",
        "\n",
        "# 调用MultiplyAdd.backward\n",
        "# 输出grad_w, grad_x, grad_b\n",
        "z.grad_fn.apply(t.ones(1))"
      ]
    },
    {
      "cell_type": "markdown",
      "metadata": {
        "id": "0j_6CFrRHs-9"
      },
      "source": [
        "之所以forward函数的输入是tensor，而backward函数的输入是variable，是为了实现高阶求导。backward函数的输入输出虽然是variable，但在实际使用时autograd.Function会将输入variable提取为tensor，并将计算结果的tensor封装成variable返回。在backward函数中，之所以也要对variable进行操作，是为了能够计算梯度的梯度（backward of backward）。下面举例说明，有关torch.autograd.grad的更详细使用请参照文档。"
      ]
    },
    {
      "cell_type": "code",
      "execution_count": 165,
      "metadata": {
        "id": "anDQMmEIHs-9",
        "outputId": "33303f38-0cae-478f-f3c1-3c2e1b6ded17",
        "colab": {
          "base_uri": "https://localhost:8080/"
        }
      },
      "outputs": [
        {
          "output_type": "execute_result",
          "data": {
            "text/plain": [
              "(tensor([10.], grad_fn=<MulBackward0>),)"
            ]
          },
          "metadata": {},
          "execution_count": 165
        }
      ],
      "source": [
        "x = t.tensor([5], requires_grad=True,dtype=t.float)\n",
        "y = x ** 2\n",
        "grad_x = t.autograd.grad(y, x, create_graph=True)\n",
        "grad_x # dy/dx = 2 * x"
      ]
    },
    {
      "cell_type": "code",
      "execution_count": 166,
      "metadata": {
        "id": "Y9qrdvEjHs-9",
        "outputId": "f9631128-6570-42b7-9bc0-2248fa2530aa",
        "colab": {
          "base_uri": "https://localhost:8080/"
        }
      },
      "outputs": [
        {
          "output_type": "execute_result",
          "data": {
            "text/plain": [
              "(tensor([2.]),)"
            ]
          },
          "metadata": {},
          "execution_count": 166
        }
      ],
      "source": [
        "grad_grad_x = t.autograd.grad(grad_x[0],x)\n",
        "grad_grad_x # 二阶导数 d(2x)/dx = 2"
      ]
    },
    {
      "cell_type": "markdown",
      "metadata": {
        "id": "GTfnKUPWHs--"
      },
      "source": [
        "这种设计虽然能让`autograd`具有高阶求导功能，但其也限制了Tensor的使用，因autograd中反向传播的函数只能利用当前已经有的Variable操作。这个设计是在`0.2`版本新加入的，为了更好的灵活性，也为了兼容旧版本的代码，PyTorch还提供了另外一种扩展autograd的方法。PyTorch提供了一个装饰器`@once_differentiable`，能够在backward函数中自动将输入的variable提取成tensor，把计算结果的tensor自动封装成variable。有了这个特性我们就能够很方便的使用numpy/scipy中的函数，操作不再局限于variable所支持的操作。但是这种做法正如名字中所暗示的那样只能求导一次，它打断了反向传播图，不再支持高阶求导。\n",
        "\n",
        "\n",
        "上面所描述的都是新式Function，还有个legacy Function，可以带有`__init__`方法，`forward`和`backwad`函数也不需要声明为`@staticmethod`，但随着版本更迭，此类Function将越来越少遇到，在此不做更多介绍。\n",
        "\n",
        "此外在实现了自己的Function之后，还可以使用`gradcheck`函数来检测实现是否正确。`gradcheck`通过数值逼近来计算梯度，可能具有一定的误差，通过控制`eps`的大小可以控制容忍的误差。\n",
        "关于这部份的内容可以参考github上开发者们的讨论[^3]。\n",
        "\n",
        "[^3]: https://github.com/pytorch/pytorch/pull/1016"
      ]
    },
    {
      "cell_type": "markdown",
      "metadata": {
        "id": "oY10JUY0Hs--"
      },
      "source": [
        "下面举例说明如何利用Function实现sigmoid Function。"
      ]
    },
    {
      "cell_type": "code",
      "execution_count": 167,
      "metadata": {
        "id": "4s_JZO6cHs--"
      },
      "outputs": [],
      "source": [
        "class Sigmoid(Function):\n",
        "                                                             \n",
        "    @staticmethod\n",
        "    def forward(ctx, x): \n",
        "        output = 1 / (1 + t.exp(-x))\n",
        "        ctx.save_for_backward(output)\n",
        "        return output\n",
        "        \n",
        "    @staticmethod\n",
        "    def backward(ctx, grad_output): \n",
        "        output,  = ctx.saved_tensors\n",
        "        grad_x = output * (1 - output) * grad_output\n",
        "        return grad_x                            "
      ]
    },
    {
      "cell_type": "code",
      "execution_count": 168,
      "metadata": {
        "id": "bi5aUQJCHs--",
        "outputId": "7f70795b-df32-4d1c-fdc3-2039a567cedb",
        "colab": {
          "base_uri": "https://localhost:8080/"
        }
      },
      "outputs": [
        {
          "output_type": "execute_result",
          "data": {
            "text/plain": [
              "True"
            ]
          },
          "metadata": {},
          "execution_count": 168
        }
      ],
      "source": [
        "# 采用数值逼近方式检验计算梯度的公式对不对\n",
        "test_input = t.randn(3,4, requires_grad=True).double()\n",
        "t.autograd.gradcheck(Sigmoid.apply, (test_input,), eps=1e-3)"
      ]
    },
    {
      "cell_type": "code",
      "execution_count": 170,
      "metadata": {
        "id": "TRP82_eXHs--",
        "outputId": "77f609d5-383a-497e-fbf0-86872fc292e6",
        "colab": {
          "base_uri": "https://localhost:8080/"
        }
      },
      "outputs": [
        {
          "output_type": "stream",
          "name": "stdout",
          "text": [
            "100 loops, best of 5: 179 µs per loop\n",
            "100 loops, best of 5: 179 µs per loop\n",
            "100 loops, best of 5: 77.4 µs per loop\n"
          ]
        }
      ],
      "source": [
        "def f_sigmoid(x):\n",
        "    y = Sigmoid.apply(x)\n",
        "    y.backward(t.ones(x.size()))\n",
        "    \n",
        "def f_naive(x):\n",
        "    y =  1/(1 + t.exp(-x))\n",
        "    y.backward(t.ones(x.size()))\n",
        "    \n",
        "def f_th(x):\n",
        "    y = t.sigmoid(x)\n",
        "    y.backward(t.ones(x.size()))\n",
        "    \n",
        "x=t.randn(100, 100, requires_grad=True)\n",
        "%timeit -n 100 f_sigmoid(x)\n",
        "%timeit -n 100 f_naive(x)\n",
        "%timeit -n 100 f_th(x)"
      ]
    },
    {
      "cell_type": "markdown",
      "metadata": {
        "id": "87JfCDGJHs-_"
      },
      "source": [
        "显然`f_sigmoid`要比单纯利用`autograd`加减和乘方操作实现的函数快不少，因为f_sigmoid的backward优化了反向传播的过程。另外可以看出系统实现的built-in接口(t.sigmoid)更快。"
      ]
    },
    {
      "cell_type": "markdown",
      "metadata": {
        "id": "TX5yX-WqHs-_"
      },
      "source": [
        "### 3.2.4 小试牛刀: 用Variable实现线性回归\n",
        "在上一节中讲解了利用tensor实现线性回归，在这一小节中，将讲解如何利用autograd/Variable实现线性回归，以此感受autograd的便捷之处。"
      ]
    },
    {
      "cell_type": "code",
      "execution_count": 6,
      "metadata": {
        "id": "OohQWg1hHs-_"
      },
      "outputs": [],
      "source": [
        "import torch as t\n",
        "%matplotlib inline\n",
        "from matplotlib import pyplot as plt\n",
        "from IPython import display \n",
        "import numpy as np"
      ]
    },
    {
      "cell_type": "code",
      "execution_count": 177,
      "metadata": {
        "id": "MVf8MEnhHs-_"
      },
      "outputs": [],
      "source": [
        "# 设置随机数种子，为了在不同人电脑上运行时下面的输出一致\n",
        "t.manual_seed(1000) \n",
        "\n",
        "def get_fake_data(batch_size=8):\n",
        "    ''' 产生随机数据：y = x*2 + 3，加上了一些噪声'''\n",
        "    x = t.rand(batch_size, 1) * 5\n",
        "    y = x * 2 + 3 + t.randn(batch_size, 1)\n",
        "    return x, y"
      ]
    },
    {
      "cell_type": "code",
      "execution_count": 175,
      "metadata": {
        "id": "sf-V5u4ZHs-_",
        "outputId": "351fa3f7-9f1d-4162-af4b-0da65702d912",
        "colab": {
          "base_uri": "https://localhost:8080/",
          "height": 300
        }
      },
      "outputs": [
        {
          "output_type": "stream",
          "name": "stdout",
          "text": [
            "torch.Size([8, 1]) torch.Size([8, 1]) torch.Size([8])\n"
          ]
        },
        {
          "output_type": "execute_result",
          "data": {
            "text/plain": [
              "<matplotlib.collections.PathCollection at 0x7f90ac199610>"
            ]
          },
          "metadata": {},
          "execution_count": 175
        },
        {
          "output_type": "display_data",
          "data": {
            "image/png": "[encoded data removed]",
            "text/plain": [
              "<Figure size 432x288 with 1 Axes>"
            ]
          },
          "metadata": {
            "needs_background": "light"
          }
        }
      ],
      "source": [
        "# 来看看产生x-y分布是什么样的\n",
        "x, y = get_fake_data()\n",
        "plt.scatter(x.squeeze().numpy(), y.squeeze().numpy())"
      ]
    },
    {
      "cell_type": "code",
      "execution_count": 178,
      "metadata": {
        "scrolled": false,
        "id": "U6I06EU5Hs-_",
        "outputId": "9dccff84-7ebb-4fd9-9ad6-978e7af2b3a0",
        "colab": {
          "base_uri": "https://localhost:8080/",
          "height": 283
        }
      },
      "outputs": [
        {
          "output_type": "display_data",
          "data": {
            "image/png": "[encoded data removed]",
            "text/plain": [
              "<Figure size 432x288 with 1 Axes>"
            ]
          },
          "metadata": {
            "needs_background": "light"
          }
        },
        {
          "output_type": "stream",
          "name": "stdout",
          "text": [
            "1.9473410844802856 3.040416955947876\n"
          ]
        }
      ],
      "source": [
        "# 随机初始化参数\n",
        "w = t.rand(1,1, requires_grad=True)\n",
        "b = t.zeros(1,1, requires_grad=True)\n",
        "losses = np.zeros(500)\n",
        "\n",
        "lr =0.005 # 学习率\n",
        "\n",
        "for ii in range(500):\n",
        "    x, y = get_fake_data(batch_size=32)\n",
        "    \n",
        "    # forward：计算loss\n",
        "    y_pred = x.mm(w) + b.expand_as(y)\n",
        "    loss = 0.5 * (y_pred - y) ** 2\n",
        "    loss = loss.sum()\n",
        "    losses[ii] = loss.item()\n",
        "    \n",
        "    # backward：手动计算梯度\n",
        "    loss.backward()\n",
        "    \n",
        "    # 更新参数\n",
        "    w.data.sub_(lr * w.grad.data)\n",
        "    b.data.sub_(lr * b.grad.data)\n",
        "    \n",
        "    # 梯度清零\n",
        "    w.grad.data.zero_()\n",
        "    b.grad.data.zero_()\n",
        "    \n",
        "    if ii%50 ==0:\n",
        "        # 画图\n",
        "        display.clear_output(wait=True)\n",
        "        x = t.arange(0, 6).view(-1, 1).float()\n",
        "        y = x.mm(w.data) + b.data.expand_as(x)\n",
        "        plt.plot(x.numpy(), y.numpy()) # predicted\n",
        "        \n",
        "        x2, y2 = get_fake_data(batch_size=20) \n",
        "        plt.scatter(x2.numpy(), y2.numpy()) # true data\n",
        "        \n",
        "        plt.xlim(0,5)\n",
        "        plt.ylim(0,13)   \n",
        "        plt.show()\n",
        "        plt.pause(0.5)\n",
        "        \n",
        "print(w.item(), b.item())"
      ]
    },
    {
      "cell_type": "code",
      "execution_count": 179,
      "metadata": {
        "id": "H8JDeD1hHs_A",
        "outputId": "44add51f-56d7-4652-a793-4702ad331eb0",
        "colab": {
          "base_uri": "https://localhost:8080/",
          "height": 287
        }
      },
      "outputs": [
        {
          "output_type": "execute_result",
          "data": {
            "text/plain": [
              "(5.0, 50.0)"
            ]
          },
          "metadata": {},
          "execution_count": 179
        },
        {
          "output_type": "display_data",
          "data": {
            "image/png": "[encoded data removed]",
            "text/plain": [
              "<Figure size 432x288 with 1 Axes>"
            ]
          },
          "metadata": {
            "needs_background": "light"
          }
        }
      ],
      "source": [
        "plt.plot(losses)\n",
        "plt.ylim(5,50)"
      ]
    },
    {
      "cell_type": "markdown",
      "metadata": {
        "id": "gNnnM0TCHs_A"
      },
      "source": [
        "用autograd实现的线性回归最大的不同点就在于autograd不需要计算反向传播，可以自动计算微分。这点不单是在深度学习，在许多机器学习的问题中都很有用。另外需要注意的是在每次反向传播之前要记得先把梯度清零。\n",
        "\n",
        "本章主要介绍了PyTorch中两个基础底层的数据结构：Tensor和autograd中的Variable。Tensor是一个类似Numpy数组的高效多维数值运算数据结构，有着和Numpy相类似的接口，并提供简单易用的GPU加速。Variable是autograd封装了Tensor并提供自动求导技术的，具有和Tensor几乎一样的接口。`autograd`是PyTorch的自动微分引擎，采用动态计算图技术，能够快速高效的计算导数。"
      ]
    },
    {
      "cell_type": "markdown",
      "source": [
        "# Torch optimizer linear regression\n"
      ],
      "metadata": {
        "id": "BN4fnEGCEwoz"
      }
    },
    {
      "cell_type": "markdown",
      "source": [
        ""
      ],
      "metadata": {
        "id": "bBRQBBeqEv0w"
      }
    },
    {
      "cell_type": "code",
      "source": [
        "# 设置随机数种子，为了在不同人电脑上运行时下面的输出一致\n",
        "t.manual_seed(1000) \n",
        "w_true = torch.Tensor([2,-2,2,1,-1]).reshape(-1, 1)\n",
        "def get_fake_data(batch_size=8):\n",
        "    ''' 产生随机数据：y = x*2 + 3，加上了一些噪声'''\n",
        "    x = t.rand(batch_size, 5) * 5\n",
        "    y = x.mm(w_true) + 3 #+ t.randn(batch_size, 1) \n",
        "    return x, y"
      ],
      "metadata": {
        "id": "Ff55vIdIYuCB"
      },
      "execution_count": 208,
      "outputs": []
    },
    {
      "cell_type": "code",
      "source": [
        "w = t.rand(5,1, requires_grad=True)\n",
        "b = t.zeros(1,1, requires_grad=True)\n",
        "losses = np.zeros(2000)\n",
        "\n",
        "lr = 0.0008 # 学习率\n",
        "\n",
        "for ii in range(2000):\n",
        "    x, y = get_fake_data(batch_size=64)\n",
        "    \n",
        "    # forward：计算loss\n",
        "    y_pred = x.mm(w) + b.expand_as(y)\n",
        "    loss = 0.5 * (y_pred - y) ** 2\n",
        "    loss = loss.sum()\n",
        "    if ii % 1000 == 0:\n",
        "      print(loss, w, b)\n",
        "    losses[ii] = loss.item()\n",
        "    \n",
        "    # backward：手动计算梯度\n",
        "    loss.backward()\n",
        "    # 更新参数\n",
        "    w.data.sub_(lr * w.grad.data)\n",
        "    b.data.sub_(lr * b.grad.data)\n",
        "    \n",
        "    # 梯度清零\n",
        "    w.grad.data.zero_()\n",
        "    b.grad.data.zero_()"
      ],
      "metadata": {
        "id": "xPyDKABEZFLj",
        "outputId": "510378bc-e635-41b2-d203-2b74a3971a06",
        "colab": {
          "base_uri": "https://localhost:8080/"
        }
      },
      "execution_count": 211,
      "outputs": [
        {
          "output_type": "stream",
          "name": "stdout",
          "text": [
            "tensor(1358.7867, grad_fn=<SumBackward0>) tensor([[0.9572],\n",
            "        [0.9608],\n",
            "        [0.2808],\n",
            "        [0.2639],\n",
            "        [0.6401]], requires_grad=True) tensor([[0.]], requires_grad=True)\n",
            "tensor(0.0410, grad_fn=<SumBackward0>) tensor([[ 2.0092],\n",
            "        [-1.9909],\n",
            "        [ 2.0098],\n",
            "        [ 1.0099],\n",
            "        [-0.9904]], requires_grad=True) tensor([[2.8698]], requires_grad=True)\n"
          ]
        }
      ]
    },
    {
      "cell_type": "code",
      "source": [
        "print(w,b)"
      ],
      "metadata": {
        "id": "JOLmg_XCNW5z",
        "outputId": "a5670e66-8408-4662-aadc-3700a83b5877",
        "colab": {
          "base_uri": "https://localhost:8080/"
        }
      },
      "execution_count": 212,
      "outputs": [
        {
          "output_type": "stream",
          "name": "stdout",
          "text": [
            "tensor([[ 2.0005],\n",
            "        [-1.9995],\n",
            "        [ 2.0004],\n",
            "        [ 1.0005],\n",
            "        [-0.9995]], requires_grad=True) tensor([[2.9943]], requires_grad=True)\n"
          ]
        }
      ]
    },
    {
      "cell_type": "code",
      "source": [
        "class linearRegression(torch.nn.Module):\n",
        "    def __init__(self, inputSize, outputSize):\n",
        "        super(linearRegression, self).__init__()\n",
        "        self.linear = torch.nn.Linear(inputSize, outputSize)\n",
        "\n",
        "    def forward(self, x):\n",
        "        out = self.linear(x)\n",
        "        return out"
      ],
      "metadata": {
        "id": "AhVtINbDPJcD"
      },
      "execution_count": 168,
      "outputs": []
    },
    {
      "cell_type": "code",
      "source": [
        "inputDim = 5       # takes variable 'x' \n",
        "outputDim = 1       # takes variable 'y'\n",
        "learningRate = 0.001\n",
        "epochs = 10000\n",
        "\n",
        "model = linearRegression(inputDim, outputDim)\n",
        "criterion = torch.nn.MSELoss() \n",
        "optimizer = torch.optim.SGD(model.parameters(), lr=learningRate)\n",
        "\n",
        "for epoch in range(epochs):\n",
        "    # Converting inputs and labels to Variable\n",
        "    inputs, labels = get_fake_data(batch_size=64)\n",
        "\n",
        "    # Clear gradient buffers because we don't want any gradient from previous epoch to carry forward, dont want to cummulate gradients\n",
        "    optimizer.zero_grad()\n",
        "\n",
        "    # get output from the model, given the inputs\n",
        "    outputs = model(inputs)\n",
        "\n",
        "    # get loss for the predicted output\n",
        "    loss = criterion(outputs, labels)\n",
        "    # get gradients w.r.t to parameters\n",
        "    loss.backward()\n",
        "\n",
        "    # update parameters\n",
        "    optimizer.step()\n",
        "    if epoch % 100 == 0:\n",
        "      print('epoch {}, loss {}'.format(epoch, loss.item()))"
      ],
      "metadata": {
        "id": "Y8fQAmxkdp9v",
        "outputId": "d7e85b29-13a0-43c3-ba48-0954a8a4053f",
        "colab": {
          "base_uri": "https://localhost:8080/"
        }
      },
      "execution_count": 213,
      "outputs": [
        {
          "output_type": "stream",
          "name": "stdout",
          "text": [
            "epoch 0, loss 97.45208740234375\n",
            "epoch 100, loss 12.408723831176758\n",
            "epoch 200, loss 6.824019432067871\n",
            "epoch 300, loss 2.7260022163391113\n",
            "epoch 400, loss 1.7413157224655151\n",
            "epoch 500, loss 0.9508323669433594\n",
            "epoch 600, loss 0.6618268489837646\n",
            "epoch 700, loss 0.495278000831604\n",
            "epoch 800, loss 0.36196351051330566\n",
            "epoch 900, loss 0.4651297628879547\n",
            "epoch 1000, loss 0.3847980201244354\n",
            "epoch 1100, loss 0.39015597105026245\n",
            "epoch 1200, loss 0.45022597908973694\n",
            "epoch 1300, loss 0.35512715578079224\n",
            "epoch 1400, loss 0.39928698539733887\n",
            "epoch 1500, loss 0.37570250034332275\n",
            "epoch 1600, loss 0.38148316740989685\n",
            "epoch 1700, loss 0.36802181601524353\n",
            "epoch 1800, loss 0.4147531986236572\n",
            "epoch 1900, loss 0.34288302063941956\n",
            "epoch 2000, loss 0.3029418885707855\n",
            "epoch 2100, loss 0.23997437953948975\n",
            "epoch 2200, loss 0.2678609788417816\n",
            "epoch 2300, loss 0.28275036811828613\n",
            "epoch 2400, loss 0.34225699305534363\n",
            "epoch 2500, loss 0.2531697750091553\n",
            "epoch 2600, loss 0.23926451802253723\n",
            "epoch 2700, loss 0.26393118500709534\n",
            "epoch 2800, loss 0.20477968454360962\n",
            "epoch 2900, loss 0.24412226676940918\n",
            "epoch 3000, loss 0.17249692976474762\n",
            "epoch 3100, loss 0.2388542890548706\n",
            "epoch 3200, loss 0.2226344496011734\n",
            "epoch 3300, loss 0.277755469083786\n",
            "epoch 3400, loss 0.14330323040485382\n",
            "epoch 3500, loss 0.20917125046253204\n",
            "epoch 3600, loss 0.24616803228855133\n",
            "epoch 3700, loss 0.28381478786468506\n",
            "epoch 3800, loss 0.15231600403785706\n",
            "epoch 3900, loss 0.18035458028316498\n",
            "epoch 4000, loss 0.16159072518348694\n",
            "epoch 4100, loss 0.14796343445777893\n",
            "epoch 4200, loss 0.20518265664577484\n",
            "epoch 4300, loss 0.1809399425983429\n",
            "epoch 4400, loss 0.2043173909187317\n",
            "epoch 4500, loss 0.16354918479919434\n",
            "epoch 4600, loss 0.1882186084985733\n",
            "epoch 4700, loss 0.1427537202835083\n",
            "epoch 4800, loss 0.14992624521255493\n",
            "epoch 4900, loss 0.11821810156106949\n",
            "epoch 5000, loss 0.16129955649375916\n",
            "epoch 5100, loss 0.11828012019395828\n",
            "epoch 5200, loss 0.12022892385721207\n",
            "epoch 5300, loss 0.14294499158859253\n",
            "epoch 5400, loss 0.14087450504302979\n",
            "epoch 5500, loss 0.13593292236328125\n",
            "epoch 5600, loss 0.1399155557155609\n",
            "epoch 5700, loss 0.10613956302404404\n",
            "epoch 5800, loss 0.11274772882461548\n",
            "epoch 5900, loss 0.12651586532592773\n",
            "epoch 6000, loss 0.1280481070280075\n",
            "epoch 6100, loss 0.1090545803308487\n",
            "epoch 6200, loss 0.10505183041095734\n",
            "epoch 6300, loss 0.12005101889371872\n",
            "epoch 6400, loss 0.09263648837804794\n",
            "epoch 6500, loss 0.09529639780521393\n",
            "epoch 6600, loss 0.08136937767267227\n",
            "epoch 6700, loss 0.0985335260629654\n",
            "epoch 6800, loss 0.09360555559396744\n",
            "epoch 6900, loss 0.11883066594600677\n",
            "epoch 7000, loss 0.07912176847457886\n",
            "epoch 7100, loss 0.08996038883924484\n",
            "epoch 7200, loss 0.11981084942817688\n",
            "epoch 7300, loss 0.08898157626390457\n",
            "epoch 7400, loss 0.07759978622198105\n",
            "epoch 7500, loss 0.07460089772939682\n",
            "epoch 7600, loss 0.07088611274957657\n",
            "epoch 7700, loss 0.07058447599411011\n",
            "epoch 7800, loss 0.041855618357658386\n",
            "epoch 7900, loss 0.06228725612163544\n",
            "epoch 8000, loss 0.04959093779325485\n",
            "epoch 8100, loss 0.05689626932144165\n",
            "epoch 8200, loss 0.05050970986485481\n",
            "epoch 8300, loss 0.08879727125167847\n",
            "epoch 8400, loss 0.05639742314815521\n",
            "epoch 8500, loss 0.08729052543640137\n",
            "epoch 8600, loss 0.05225181579589844\n",
            "epoch 8700, loss 0.04832463711500168\n",
            "epoch 8800, loss 0.03695908188819885\n",
            "epoch 8900, loss 0.04853113740682602\n",
            "epoch 9000, loss 0.04175908491015434\n",
            "epoch 9100, loss 0.05503784120082855\n",
            "epoch 9200, loss 0.049438897520303726\n",
            "epoch 9300, loss 0.03706460818648338\n",
            "epoch 9400, loss 0.0470227375626564\n",
            "epoch 9500, loss 0.049386654049158096\n",
            "epoch 9600, loss 0.05582042783498764\n",
            "epoch 9700, loss 0.04041857272386551\n",
            "epoch 9800, loss 0.052455104887485504\n",
            "epoch 9900, loss 0.05048266425728798\n"
          ]
        }
      ]
    },
    {
      "cell_type": "code",
      "source": [
        "for name, param in model.named_parameters():\n",
        "    if param.requires_grad:\n",
        "        print(name, param.data)"
      ],
      "metadata": {
        "id": "wHYrTqVReKcU",
        "outputId": "061b6e11-d138-4b3d-a358-a4db89dea1d3",
        "colab": {
          "base_uri": "https://localhost:8080/"
        }
      },
      "execution_count": 214,
      "outputs": [
        {
          "output_type": "stream",
          "name": "stdout",
          "text": [
            "linear.weight tensor([[ 2.0633, -1.9385,  2.0623,  1.0622, -0.9379]])\n",
            "linear.bias tensor([2.1690])\n"
          ]
        }
      ]
    },
    {
      "cell_type": "code",
      "source": [
        ""
      ],
      "metadata": {
        "id": "81Qb3NYVeaaz"
      },
      "execution_count": null,
      "outputs": []
    }
  ],
  "metadata": {
    "kernelspec": {
      "display_name": "Python 3",
      "name": "python3"
    },
    "language_info": {
      "name": "python"
    },
    "colab": {
      "name": "Autograd.ipynb",
      "provenance": []
    }
  },
  "nbformat": 4,
  "nbformat_minor": 0
}