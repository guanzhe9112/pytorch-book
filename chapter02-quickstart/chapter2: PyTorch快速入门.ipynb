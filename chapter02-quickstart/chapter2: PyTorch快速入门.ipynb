{
  "cells": [
    {
      "cell_type": "markdown",
      "metadata": {
        "id": "mqWKH4gqO3s3"
      },
      "source": [
        "## 2.2 PyTorch第一步\n",
        "\n",
        "PyTorch的简洁设计使得它入门很简单，在深入介绍PyTorch之前，本节将先介绍一些PyTorch的基础知识，使得读者能够对PyTorch有一个大致的了解，并能够用PyTorch搭建一个简单的神经网络。部分内容读者可能暂时不太理解，可先不予以深究，本书的第3章和第4章将会对此进行深入讲解。\n",
        "\n",
        "本节内容参考了PyTorch官方教程[^1]并做了相应的增删修改，使得内容更贴合新版本的PyTorch接口，同时也更适合新手快速入门。另外本书需要读者先掌握基础的Numpy使用，其他相关知识推荐读者参考CS231n的教程[^2]。\n",
        "\n",
        "[^1]: http://pytorch.org/tutorials/beginner/deep_learning_60min_blitz.html\n",
        "[^2]: http://cs231n.github.io/python-numpy-tutorial/"
      ]
    },
    {
      "cell_type": "markdown",
      "metadata": {
        "id": "FeIrOZH_O3s7"
      },
      "source": [
        "### Tensor\n",
        "\n",
        "Tensor是PyTorch中重要的数据结构，可认为是一个高维数组。它可以是一个数（标量）、一维数组（向量）、二维数组（矩阵）以及更高维的数组。Tensor和Numpy的ndarrays类似，但Tensor可以使用GPU进行加速。Tensor的使用和Numpy及Matlab的接口十分相似，下面通过几个例子来看看Tensor的基本使用。"
      ]
    },
    {
      "cell_type": "code",
      "execution_count": 51,
      "metadata": {
        "id": "cW1v-2yzO3s8",
        "outputId": "7ecc2d81-65b3-46b0-cb27-930ff8f8e335",
        "colab": {
          "base_uri": "https://localhost:8080/",
          "height": 35
        }
      },
      "outputs": [
        {
          "output_type": "execute_result",
          "data": {
            "application/vnd.google.colaboratory.intrinsic+json": {
              "type": "string"
            },
            "text/plain": [
              "'1.10.0+cu111'"
            ]
          },
          "metadata": {},
          "execution_count": 51
        }
      ],
      "source": [
        " from __future__ import print_function\n",
        "import torch as t\n",
        "import torch\n",
        "t.__version__"
      ]
    },
    {
      "cell_type": "code",
      "execution_count": null,
      "metadata": {
        "id": "QSUJpFhtO3s-",
        "outputId": "5fbfc45f-da6f-4766-bd23-29a91d5dba93"
      },
      "outputs": [
        {
          "data": {
            "text/plain": [
              "tensor([[1., 2.],\n",
              "        [3., 4.]])"
            ]
          },
          "execution_count": 2,
          "metadata": {},
          "output_type": "execute_result"
        }
      ],
      "source": [
        "# 构建 5x3 矩阵，只是分配了空间，未初始化\n",
        "x = t.Tensor(5, 3)\n",
        "\n",
        "x = t.Tensor([[1,2],[3,4]])\n",
        "x"
      ]
    },
    {
      "cell_type": "code",
      "execution_count": null,
      "metadata": {
        "id": "m9rv8_MTO3s-",
        "outputId": "7caf2e33-96b0-4b23-d924-18b66ecd51b8"
      },
      "outputs": [
        {
          "data": {
            "text/plain": [
              "tensor([[0.9971, 0.4956, 0.7326],\n",
              "        [0.5040, 0.2773, 0.1133],\n",
              "        [0.1560, 0.8798, 0.3876],\n",
              "        [0.8097, 0.8484, 0.6488],\n",
              "        [0.5509, 0.5815, 0.1071]])"
            ]
          },
          "execution_count": 3,
          "metadata": {},
          "output_type": "execute_result"
        }
      ],
      "source": [
        "# 使用[0,1]均匀分布随机初始化二维数组\n",
        "x = t.rand(5, 3)  \n",
        "x"
      ]
    },
    {
      "cell_type": "code",
      "execution_count": null,
      "metadata": {
        "id": "qgoGcVnqO3s_",
        "outputId": "f24201ea-3e45-4fe3-996a-c37423304aa3"
      },
      "outputs": [
        {
          "name": "stdout",
          "output_type": "stream",
          "text": [
            "torch.Size([5, 3])\n"
          ]
        },
        {
          "data": {
            "text/plain": [
              "(3, 3)"
            ]
          },
          "execution_count": 4,
          "metadata": {},
          "output_type": "execute_result"
        }
      ],
      "source": [
        "print(x.size()) # 查看x的形状\n",
        "x.size()[1], x.size(1) # 查看列的个数, 两种写法等价"
      ]
    },
    {
      "cell_type": "markdown",
      "metadata": {
        "id": "hPCh5msVO3s_"
      },
      "source": [
        "`torch.Size` 是tuple对象的子类，因此它支持tuple的所有操作，如x.size()[0]"
      ]
    },
    {
      "cell_type": "code",
      "execution_count": null,
      "metadata": {
        "id": "CAQ3QOf4O3tA",
        "outputId": "a30f73f1-24f0-4f07-b54a-ed64ea5d938b"
      },
      "outputs": [
        {
          "data": {
            "text/plain": [
              "tensor([[1.3989, 0.5617, 0.9267],\n",
              "        [1.4302, 0.4502, 0.5107],\n",
              "        [0.5054, 1.4337, 0.4496],\n",
              "        [1.4012, 1.5774, 0.9716],\n",
              "        [1.5367, 1.2256, 0.5118]])"
            ]
          },
          "execution_count": 5,
          "metadata": {},
          "output_type": "execute_result"
        }
      ],
      "source": [
        "y = t.rand(5, 3)\n",
        "# 加法的第一种写法\n",
        "x + y"
      ]
    },
    {
      "cell_type": "code",
      "execution_count": null,
      "metadata": {
        "id": "OoztEoiKO3tA",
        "outputId": "c2827734-15ec-4a88-8c56-3807ed6ec2db"
      },
      "outputs": [
        {
          "data": {
            "text/plain": [
              "tensor([[1.3989, 0.5617, 0.9267],\n",
              "        [1.4302, 0.4502, 0.5107],\n",
              "        [0.5054, 1.4337, 0.4496],\n",
              "        [1.4012, 1.5774, 0.9716],\n",
              "        [1.5367, 1.2256, 0.5118]])"
            ]
          },
          "execution_count": 6,
          "metadata": {},
          "output_type": "execute_result"
        }
      ],
      "source": [
        "# 加法的第二种写法\n",
        "t.add(x, y)"
      ]
    },
    {
      "cell_type": "code",
      "execution_count": null,
      "metadata": {
        "id": "799cY1h4O3tB",
        "outputId": "0f656f41-4ee3-4b93-a644-ad29e3542539"
      },
      "outputs": [
        {
          "data": {
            "text/plain": [
              "tensor([[1.3989, 0.5617, 0.9267],\n",
              "        [1.4302, 0.4502, 0.5107],\n",
              "        [0.5054, 1.4337, 0.4496],\n",
              "        [1.4012, 1.5774, 0.9716],\n",
              "        [1.5367, 1.2256, 0.5118]])"
            ]
          },
          "execution_count": 7,
          "metadata": {},
          "output_type": "execute_result"
        }
      ],
      "source": [
        "# 加法的第三种写法：指定加法结果的输出目标为result\n",
        "result = t.Tensor(5, 3) # 预先分配空间\n",
        "t.add(x, y, out=result) # 输入到result\n",
        "result"
      ]
    },
    {
      "cell_type": "code",
      "execution_count": null,
      "metadata": {
        "id": "_phG1ptDO3tC",
        "outputId": "c76669e1-8432-40c8-8fcb-f91845ac81dc"
      },
      "outputs": [
        {
          "name": "stdout",
          "output_type": "stream",
          "text": [
            "最初y\n",
            "tensor([[0.4018, 0.0661, 0.1942],\n",
            "        [0.9261, 0.1729, 0.3974],\n",
            "        [0.3494, 0.5539, 0.0621],\n",
            "        [0.5915, 0.7290, 0.3228],\n",
            "        [0.9858, 0.6441, 0.4047]])\n",
            "第一种加法，y的结果\n",
            "tensor([[0.4018, 0.0661, 0.1942],\n",
            "        [0.9261, 0.1729, 0.3974],\n",
            "        [0.3494, 0.5539, 0.0621],\n",
            "        [0.5915, 0.7290, 0.3228],\n",
            "        [0.9858, 0.6441, 0.4047]])\n",
            "第二种加法，y的结果\n",
            "tensor([[1.3989, 0.5617, 0.9267],\n",
            "        [1.4302, 0.4502, 0.5107],\n",
            "        [0.5054, 1.4337, 0.4496],\n",
            "        [1.4012, 1.5774, 0.9716],\n",
            "        [1.5367, 1.2256, 0.5118]])\n"
          ]
        }
      ],
      "source": [
        "print('最初y')\n",
        "print(y)\n",
        "\n",
        "print('第一种加法，y的结果')\n",
        "y.add(x) # 普通加法，不改变y的内容\n",
        "print(y)\n",
        "\n",
        "print('第二种加法，y的结果')\n",
        "y.add_(x) # inplace 加法，y变了\n",
        "print(y)"
      ]
    },
    {
      "cell_type": "markdown",
      "metadata": {
        "id": "h6ZP11ZGO3tC"
      },
      "source": [
        "注意，函数名后面带下划线**`_`** 的函数会修改Tensor本身。例如，`x.add_(y)`和`x.t_()`会改变 `x`，但`x.add(y)`和`x.t()`返回一个新的Tensor， 而`x`不变。"
      ]
    },
    {
      "cell_type": "code",
      "execution_count": null,
      "metadata": {
        "id": "NxXWVosGO3tC",
        "outputId": "c35101d9-6afd-4435-8bec-c9312de71326"
      },
      "outputs": [
        {
          "data": {
            "text/plain": [
              "tensor([0.4956, 0.2773, 0.8798, 0.8484, 0.5815])"
            ]
          },
          "execution_count": 9,
          "metadata": {},
          "output_type": "execute_result"
        }
      ],
      "source": [
        "# Tensor的选取操作与Numpy类似\n",
        "x[:, 1]"
      ]
    },
    {
      "cell_type": "markdown",
      "metadata": {
        "id": "Cq-UcoU3O3tD"
      },
      "source": [
        "Tensor还支持很多操作，包括数学运算、线性代数、选择、切片等等，其接口设计与Numpy极为相似。更详细的使用方法，会在第三章系统讲解。\n",
        "\n",
        "Tensor和Numpy的数组之间的互操作非常容易且快速。对于Tensor不支持的操作，可以先转为Numpy数组处理，之后再转回Tensor。c\n",
        "\n"
      ]
    },
    {
      "cell_type": "code",
      "execution_count": null,
      "metadata": {
        "id": "e18IY8KKO3tD",
        "outputId": "56b2e620-5848-44cc-c64d-7c26e9d738f6"
      },
      "outputs": [
        {
          "data": {
            "text/plain": [
              "tensor([1., 1., 1., 1., 1.])"
            ]
          },
          "execution_count": 10,
          "metadata": {},
          "output_type": "execute_result"
        }
      ],
      "source": [
        "a = t.ones(5) # 新建一个全1的Tensor\n",
        "a"
      ]
    },
    {
      "cell_type": "code",
      "execution_count": null,
      "metadata": {
        "id": "H7QIcWsKO3tD",
        "outputId": "036adff3-907a-4bda-dca8-6a68dde444b9"
      },
      "outputs": [
        {
          "data": {
            "text/plain": [
              "array([1., 1., 1., 1., 1.], dtype=float32)"
            ]
          },
          "execution_count": 11,
          "metadata": {},
          "output_type": "execute_result"
        }
      ],
      "source": [
        "b = a.numpy() # Tensor -> Numpy\n",
        "b"
      ]
    },
    {
      "cell_type": "code",
      "execution_count": null,
      "metadata": {
        "id": "O9_bQn7BO3tE",
        "outputId": "01bb49aa-71bd-4bce-fbbc-f3d84aa34ddf"
      },
      "outputs": [
        {
          "name": "stdout",
          "output_type": "stream",
          "text": [
            "[1. 1. 1. 1. 1.]\n",
            "tensor([1., 1., 1., 1., 1.], dtype=torch.float64)\n"
          ]
        }
      ],
      "source": [
        "import numpy as np\n",
        "a = np.ones(5)\n",
        "b = t.from_numpy(a) # Numpy->Tensor\n",
        "print(a)\n",
        "print(b) "
      ]
    },
    {
      "cell_type": "markdown",
      "metadata": {
        "id": "Sish00dXO3tE"
      },
      "source": [
        "Tensor和numpy对象共享内存，所以他们之间的转换很快，而且几乎不会消耗什么资源。但这也意味着，如果其中一个变了，另外一个也会随之改变。"
      ]
    },
    {
      "cell_type": "code",
      "execution_count": null,
      "metadata": {
        "scrolled": true,
        "id": "aqMiQURaO3tE",
        "outputId": "832473b7-4908-4697-96ce-dd66f36b73ee"
      },
      "outputs": [
        {
          "name": "stdout",
          "output_type": "stream",
          "text": [
            "[2. 2. 2. 2. 2.]\n",
            "tensor([2., 2., 2., 2., 2.], dtype=torch.float64)\n"
          ]
        }
      ],
      "source": [
        "b.add_(1) # 以`_`结尾的函数会修改自身\n",
        "print(a)\n",
        "print(b) # Tensor和Numpy共享内存"
      ]
    },
    {
      "cell_type": "markdown",
      "metadata": {
        "id": "guEdqhy9O3tF"
      },
      "source": [
        "如果你想获取某一个元素的值，可以使用`scalar.item`。 直接`tensor[idx]`得到的还是一个tensor: 一个0-dim 的tensor，一般称为scalar."
      ]
    },
    {
      "cell_type": "code",
      "execution_count": null,
      "metadata": {
        "id": "UBjQAOLWO3tF",
        "outputId": "f68d881e-ed54-441c-aad5-1ec2ebf1dfc7"
      },
      "outputs": [
        {
          "data": {
            "text/plain": [
              "tensor(2., dtype=torch.float64)"
            ]
          },
          "execution_count": 14,
          "metadata": {},
          "output_type": "execute_result"
        }
      ],
      "source": [
        "scalar = b[0]\n",
        "scalar"
      ]
    },
    {
      "cell_type": "code",
      "execution_count": null,
      "metadata": {
        "id": "ijfTZjYXO3tF",
        "outputId": "64d0cf57-a683-4940-fa85-a38f246bf8f1"
      },
      "outputs": [
        {
          "data": {
            "text/plain": [
              "torch.Size([])"
            ]
          },
          "execution_count": 15,
          "metadata": {},
          "output_type": "execute_result"
        }
      ],
      "source": [
        "scalar.size() #0-dim"
      ]
    },
    {
      "cell_type": "code",
      "execution_count": null,
      "metadata": {
        "id": "fphQf0XoO3tG",
        "outputId": "189ff76e-ff60-4bca-ee31-974bce6f304a"
      },
      "outputs": [
        {
          "data": {
            "text/plain": [
              "2.0"
            ]
          },
          "execution_count": 16,
          "metadata": {},
          "output_type": "execute_result"
        }
      ],
      "source": [
        "scalar.item() # 使用scalar.item()能从中取出python对象的数值"
      ]
    },
    {
      "cell_type": "code",
      "execution_count": null,
      "metadata": {
        "id": "9Ud3b5wQO3tG",
        "outputId": "38b4c33f-6251-4186-dd6f-df55696b87f9"
      },
      "outputs": [
        {
          "data": {
            "text/plain": [
              "(tensor([2]), tensor(2., dtype=torch.float64))"
            ]
          },
          "execution_count": 17,
          "metadata": {},
          "output_type": "execute_result"
        }
      ],
      "source": [
        "tensor = t.tensor([2]) # 注意和scalar的区别\n",
        "tensor,scalar"
      ]
    },
    {
      "cell_type": "code",
      "execution_count": null,
      "metadata": {
        "id": "SJ8K85jmO3tG",
        "outputId": "d6d713fa-8be0-4923-b54c-3bcb7df79981"
      },
      "outputs": [
        {
          "data": {
            "text/plain": [
              "(torch.Size([1]), torch.Size([]))"
            ]
          },
          "execution_count": 18,
          "metadata": {},
          "output_type": "execute_result"
        }
      ],
      "source": [
        "tensor.size(),scalar.size()"
      ]
    },
    {
      "cell_type": "code",
      "execution_count": null,
      "metadata": {
        "id": "wjAzEJMsO3tG",
        "outputId": "5f63d09a-d4c3-4ac7-ebb5-0aeb28c22917"
      },
      "outputs": [
        {
          "data": {
            "text/plain": [
              "(2, 2.0)"
            ]
          },
          "execution_count": 19,
          "metadata": {},
          "output_type": "execute_result"
        }
      ],
      "source": [
        "# 只有一个元素的tensor也可以调用`tensor.item()`\n",
        "tensor.item(), scalar.item()"
      ]
    },
    {
      "cell_type": "markdown",
      "metadata": {
        "id": "KwnTjAEgO3tH"
      },
      "source": [
        "此外在pytorch中还有一个和`np.array` 很类似的接口: `torch.tensor`, 二者的使用十分类似。"
      ]
    },
    {
      "cell_type": "code",
      "execution_count": null,
      "metadata": {
        "id": "sOnmXBNXO3tH"
      },
      "outputs": [],
      "source": [
        "tensor = t.tensor([3,4]) # 新建一个包含 3，4 两个元素的tensor"
      ]
    },
    {
      "cell_type": "code",
      "execution_count": null,
      "metadata": {
        "id": "W15sM_0eO3tH",
        "outputId": "7a2b1122-5245-49db-f688-5ebf6b779c39"
      },
      "outputs": [
        {
          "data": {
            "text/plain": [
              "tensor(3)"
            ]
          },
          "execution_count": 21,
          "metadata": {},
          "output_type": "execute_result"
        }
      ],
      "source": [
        "scalar = t.tensor(3)\n",
        "scalar"
      ]
    },
    {
      "cell_type": "code",
      "execution_count": null,
      "metadata": {
        "id": "KcZ9X9UwO3tH",
        "outputId": "ad63c6aa-6d86-4a3a-85ad-8ffcfd01f1c7"
      },
      "outputs": [
        {
          "data": {
            "text/plain": [
              "(tensor([3, 4]), tensor([1111,    4]))"
            ]
          },
          "execution_count": 23,
          "metadata": {},
          "output_type": "execute_result"
        }
      ],
      "source": [
        "old_tensor = tensor\n",
        "new_tensor = old_tensor.clone()\n",
        "new_tensor[0] = 1111\n",
        "old_tensor, new_tensor"
      ]
    },
    {
      "cell_type": "markdown",
      "metadata": {
        "id": "spUgPYhSO3tI"
      },
      "source": [
        "需要注意的是，`t.tensor()`或者`tensor.clone()`总是会进行数据拷贝，新tensor和原来的数据不再共享内存。所以如果你想共享内存的话，建议使用`torch.from_numpy()`或者`tensor.detach()`来新建一个tensor, 二者共享内存。"
      ]
    },
    {
      "cell_type": "code",
      "execution_count": null,
      "metadata": {
        "id": "EdtCkUyLO3tI",
        "outputId": "f8d731ad-be7d-46f4-ef6c-bf5a99b7f7bb"
      },
      "outputs": [
        {
          "data": {
            "text/plain": [
              "(tensor([1111,    4]), tensor([1111,    4]))"
            ]
          },
          "execution_count": 24,
          "metadata": {},
          "output_type": "execute_result"
        }
      ],
      "source": [
        "new_tensor = old_tensor.detach()\n",
        "new_tensor[0] = 1111\n",
        "old_tensor, new_tensor"
      ]
    },
    {
      "cell_type": "markdown",
      "metadata": {
        "id": "n6hSyuHQO3tI"
      },
      "source": [
        "Tensor可通过`.cuda` 方法转为GPU的Tensor，从而享受GPU带来的加速运算。"
      ]
    },
    {
      "cell_type": "code",
      "execution_count": null,
      "metadata": {
        "id": "38wI58IXO3tI"
      },
      "outputs": [],
      "source": [
        "# 在不支持CUDA的机器下，下一步还是在CPU上运行\n",
        "device = t.device(\"cuda:0\" if t.cuda.is_available() else \"cpu\")\n",
        "x = x.to(device)\n",
        "y = y.to(x.device)\n",
        "z = x+y"
      ]
    },
    {
      "cell_type": "markdown",
      "metadata": {
        "id": "eI-qNEjDO3tI"
      },
      "source": [
        "此外，还可以使用`tensor.cuda()` 的方式将tensor拷贝到gpu上，但是这种方式不太推荐。"
      ]
    },
    {
      "cell_type": "markdown",
      "metadata": {
        "id": "2fqX08fjO3tI"
      },
      "source": [
        "此处可能发现GPU运算的速度并未提升太多，这是因为x和y太小且运算也较为简单，而且将数据从内存转移到显存还需要花费额外的开销。GPU的优势需在大规模数据和复杂运算下才能体现出来。"
      ]
    },
    {
      "cell_type": "markdown",
      "metadata": {
        "id": "oTa2QeloO3tJ"
      },
      "source": [
        "\n",
        "### autograd: 自动微分\n",
        "\n",
        "深度学习的算法本质上是通过反向传播求导数，而PyTorch的**`autograd`**模块则实现了此功能。在Tensor上的所有操作，autograd都能为它们自动提供微分，避免了手动计算导数的复杂过程。\n",
        " \n",
        "~~`autograd.Variable`是Autograd中的核心类，它简单封装了Tensor，并支持几乎所有Tensor有的操作。Tensor在被封装为Variable之后，可以调用它的`.backward`实现反向传播，自动计算所有梯度~~ ~~Variable的数据结构如图2-6所示。~~\n",
        "\n",
        "\n",
        "![图2-6:Variable的数据结构](https://github.com/guanzhe9112/pytorch-book/blob/master/chapter02-quickstart/imgs/autograd_Variable.svg?raw=1)\n",
        "\n",
        "  *从0.4起, Variable 正式合并入Tensor, Variable 本来实现的自动微分功能，Tensor就能支持。读者还是可以使用Variable(tensor), 但是这个操作其实什么都没做。建议读者以后直接使用tensor*. \n",
        "  \n",
        "  要想使得Tensor使用autograd功能，只需要设置`tensor.requries_grad=True`. \n",
        "\n",
        "\n",
        "~~Variable主要包含三个属性。~~\n",
        "~~- `data`：保存Variable所包含的Tensor~~\n",
        "~~- `grad`：保存`data`对应的梯度，`grad`也是个Variable，而不是Tensor，它和`data`的形状一样。~~\n",
        "~~- `grad_fn`：指向一个`Function`对象，这个`Function`用来反向传播计算输入的梯度，具体细节会在下一章讲解。~~"
      ]
    },
    {
      "cell_type": "code",
      "execution_count": null,
      "metadata": {
        "scrolled": true,
        "id": "EQ8pBQfKO3tJ",
        "outputId": "60f8b39f-0a20-453c-faba-f8095120e679"
      },
      "outputs": [
        {
          "data": {
            "text/plain": [
              "tensor([[1., 1.],\n",
              "        [1., 1.]], requires_grad=True)"
            ]
          },
          "execution_count": 27,
          "metadata": {},
          "output_type": "execute_result"
        }
      ],
      "source": [
        "# 为tensor设置 requires_grad 标识，代表着需要求导数\n",
        "# pytorch 会自动调用autograd 记录操作\n",
        "x = t.ones(2, 2, requires_grad=True)\n",
        "\n",
        "# 上一步等价于\n",
        "# x = t.ones(2,2)\n",
        "# x.requires_grad = True\n",
        "\n",
        "x"
      ]
    },
    {
      "cell_type": "code",
      "execution_count": null,
      "metadata": {
        "scrolled": true,
        "id": "fRqhlLTQO3tJ",
        "outputId": "2345c9d8-0468-4663-f32e-3c4cfac6ba9e"
      },
      "outputs": [
        {
          "data": {
            "text/plain": [
              "tensor(4., grad_fn=<SumBackward0>)"
            ]
          },
          "execution_count": 28,
          "metadata": {},
          "output_type": "execute_result"
        }
      ],
      "source": [
        "y = x.sum()\n",
        "y"
      ]
    },
    {
      "cell_type": "code",
      "execution_count": null,
      "metadata": {
        "id": "Cd9BSgHGO3tK",
        "outputId": "df4d79b8-a8d1-44fb-c454-59aabd3f8386"
      },
      "outputs": [
        {
          "data": {
            "text/plain": [
              "<SumBackward0 at 0x7f63e55b7810>"
            ]
          },
          "execution_count": 29,
          "metadata": {},
          "output_type": "execute_result"
        }
      ],
      "source": [
        "y.grad_fn"
      ]
    },
    {
      "cell_type": "code",
      "execution_count": null,
      "metadata": {
        "id": "OeuF9ul5O3tK"
      },
      "outputs": [],
      "source": [
        "y.backward() # 反向传播,计算梯度"
      ]
    },
    {
      "cell_type": "code",
      "execution_count": null,
      "metadata": {
        "id": "qA1qz-eiO3tK",
        "outputId": "e8c3a43a-f74e-4d71-9792-9630ec3ecc8d"
      },
      "outputs": [
        {
          "data": {
            "text/plain": [
              "tensor([[1., 1.],\n",
              "        [1., 1.]])"
            ]
          },
          "execution_count": 31,
          "metadata": {},
          "output_type": "execute_result"
        }
      ],
      "source": [
        "# y = x.sum() = (x[0][0] + x[0][1] + x[1][0] + x[1][1])\n",
        "# 每个值的梯度都为1\n",
        "x.grad "
      ]
    },
    {
      "cell_type": "markdown",
      "metadata": {
        "id": "pKgFAnDKO3tK"
      },
      "source": [
        "注意：`grad`在反向传播过程中是累加的(accumulated)，这意味着每一次运行反向传播，梯度都会累加之前的梯度，所以反向传播之前需把梯度清零。"
      ]
    },
    {
      "cell_type": "code",
      "execution_count": null,
      "metadata": {
        "id": "7rU36oXoO3tK",
        "outputId": "7cab1b16-255c-4fef-ced3-7a532ee75de0"
      },
      "outputs": [
        {
          "data": {
            "text/plain": [
              "tensor([[2., 2.],\n",
              "        [2., 2.]])"
            ]
          },
          "execution_count": 32,
          "metadata": {},
          "output_type": "execute_result"
        }
      ],
      "source": [
        "y.backward()\n",
        "x.grad"
      ]
    },
    {
      "cell_type": "code",
      "execution_count": null,
      "metadata": {
        "scrolled": true,
        "id": "zscv0WFcO3tK",
        "outputId": "6c9ea505-0e3f-42bc-c434-bd0191b58361"
      },
      "outputs": [
        {
          "data": {
            "text/plain": [
              "tensor([[3., 3.],\n",
              "        [3., 3.]])"
            ]
          },
          "execution_count": 33,
          "metadata": {},
          "output_type": "execute_result"
        }
      ],
      "source": [
        "y.backward()\n",
        "x.grad"
      ]
    },
    {
      "cell_type": "code",
      "execution_count": null,
      "metadata": {
        "id": "x11ju6KaO3tK",
        "outputId": "d2cd64c5-1564-454a-db52-56c2602b8f29"
      },
      "outputs": [
        {
          "data": {
            "text/plain": [
              "tensor([[0., 0.],\n",
              "        [0., 0.]])"
            ]
          },
          "execution_count": 34,
          "metadata": {},
          "output_type": "execute_result"
        }
      ],
      "source": [
        "# 以下划线结束的函数是inplace操作，会修改自身的值，就像add_\n",
        "x.grad.data.zero_()"
      ]
    },
    {
      "cell_type": "code",
      "execution_count": null,
      "metadata": {
        "id": "oSG81neAO3tL",
        "outputId": "7343637b-471f-4cea-cd82-3b27dac9b9e4"
      },
      "outputs": [
        {
          "data": {
            "text/plain": [
              "tensor([[1., 1.],\n",
              "        [1., 1.]])"
            ]
          },
          "execution_count": 35,
          "metadata": {},
          "output_type": "execute_result"
        }
      ],
      "source": [
        "y.backward()\n",
        "x.grad"
      ]
    },
    {
      "cell_type": "markdown",
      "metadata": {
        "id": "J8Ph__8hO3tL"
      },
      "source": [
        "###  神经网络\n",
        "\n",
        "Autograd实现了反向传播功能，但是直接用来写深度学习的代码在很多情况下还是稍显复杂，torch.nn是专门为神经网络设计的模块化接口。nn构建于 Autograd之上，可用来定义和运行神经网络。nn.Module是nn中最重要的类，可把它看成是一个网络的封装，包含网络各层定义以及forward方法，调用forward(input)方法，可返回前向传播的结果。下面就以最早的卷积神经网络：LeNet为例，来看看如何用`nn.Module`实现。LeNet的网络结构如图2-7所示。\n",
        "\n",
        "![图2-7:LeNet网络结构](https://github.com/guanzhe9112/pytorch-book/blob/master/chapter02-quickstart/imgs/nn_lenet.png?raw=1)\n",
        "\n",
        "这是一个基础的前向传播(feed-forward)网络: 接收输入，经过层层传递运算，得到输出。\n",
        "\n",
        "#### 定义网络\n",
        "\n",
        "定义网络时，需要继承`nn.Module`，并实现它的forward方法，把网络中具有可学习参数的层放在构造函数`__init__`中。如果某一层(如ReLU)不具有可学习的参数，则既可以放在构造函数中，也可以不放，但建议不放在其中，而在forward中使用`nn.functional`代替。"
      ]
    },
    {
      "cell_type": "code",
      "execution_count": null,
      "metadata": {
        "id": "exxNOrVPO3tL",
        "outputId": "99863595-4bda-4265-c86d-9cac137f9247"
      },
      "outputs": [
        {
          "name": "stdout",
          "output_type": "stream",
          "text": [
            "Net(\n",
            "  (conv1): Conv2d(1, 6, kernel_size=(5, 5), stride=(1, 1))\n",
            "  (conv2): Conv2d(6, 16, kernel_size=(5, 5), stride=(1, 1))\n",
            "  (fc1): Linear(in_features=400, out_features=120, bias=True)\n",
            "  (fc2): Linear(in_features=120, out_features=84, bias=True)\n",
            "  (fc3): Linear(in_features=84, out_features=10, bias=True)\n",
            ")\n"
          ]
        }
      ],
      "source": [
        "import torch.nn as nn\n",
        "import torch.nn.functional as F\n",
        "\n",
        "class Net(nn.Module):\n",
        "    def __init__(self):\n",
        "        # nn.Module子类的函数必须在构造函数中执行父类的构造函数\n",
        "        # 下式等价于nn.Module.__init__(self)\n",
        "        super(Net, self).__init__()\n",
        "        \n",
        "        # 卷积层 '1'表示输入图片为单通道, '6'表示输出通道数，'5'表示卷积核为5*5\n",
        "        self.conv1 = nn.Conv2d(1, 6, 5) \n",
        "        # 卷积层\n",
        "        self.conv2 = nn.Conv2d(6, 16, 5) \n",
        "        # 仿射层/全连接层，y = Wx + b\n",
        "        self.fc1   = nn.Linear(16*5*5, 120) \n",
        "        self.fc2   = nn.Linear(120, 84)\n",
        "        self.fc3   = nn.Linear(84, 10)\n",
        "\n",
        "    def forward(self, x): \n",
        "        # 卷积 -> 激活 -> 池化 \n",
        "        x = F.max_pool2d(F.relu(self.conv1(x)), (2, 2))\n",
        "        x = F.max_pool2d(F.relu(self.conv2(x)), 2) \n",
        "        # reshape，‘-1’表示自适应\n",
        "        x = x.view(x.size()[0], -1) \n",
        "        x = F.relu(self.fc1(x))\n",
        "        x = F.relu(self.fc2(x))\n",
        "        x = self.fc3(x)        \n",
        "        return x\n",
        "\n",
        "net = Net()\n",
        "print(net)"
      ]
    },
    {
      "cell_type": "markdown",
      "metadata": {
        "id": "WSw-b5A4O3tL"
      },
      "source": [
        "只要在nn.Module的子类中定义了forward函数，backward函数就会自动被实现(利用`autograd`)。在`forward` 函数中可使用任何tensor支持的函数，还可以使用if、for循环、print、log等Python语法，写法和标准的Python写法一致。\n",
        "\n",
        "网络的可学习参数通过`net.parameters()`返回，`net.named_parameters`可同时返回可学习的参数及名称。"
      ]
    },
    {
      "cell_type": "code",
      "execution_count": null,
      "metadata": {
        "id": "-fW3lZHMO3tL",
        "outputId": "fe531063-ee05-4f32-94c6-54f3de9f4f9c"
      },
      "outputs": [
        {
          "name": "stdout",
          "output_type": "stream",
          "text": [
            "10\n"
          ]
        }
      ],
      "source": [
        "params = list(net.parameters())\n",
        "print(len(params))"
      ]
    },
    {
      "cell_type": "code",
      "execution_count": null,
      "metadata": {
        "id": "fXr5IaOOO3tL",
        "outputId": "dd6f3731-3fb4-43e9-e43e-c0bf7baa5b7d"
      },
      "outputs": [
        {
          "name": "stdout",
          "output_type": "stream",
          "text": [
            "conv1.weight : torch.Size([6, 1, 5, 5])\n",
            "conv1.bias : torch.Size([6])\n",
            "conv2.weight : torch.Size([16, 6, 5, 5])\n",
            "conv2.bias : torch.Size([16])\n",
            "fc1.weight : torch.Size([120, 400])\n",
            "fc1.bias : torch.Size([120])\n",
            "fc2.weight : torch.Size([84, 120])\n",
            "fc2.bias : torch.Size([84])\n",
            "fc3.weight : torch.Size([10, 84])\n",
            "fc3.bias : torch.Size([10])\n"
          ]
        }
      ],
      "source": [
        "for name,parameters in net.named_parameters():\n",
        "    print(name,':',parameters.size())"
      ]
    },
    {
      "cell_type": "markdown",
      "metadata": {
        "id": "NdISIEsAO3tM"
      },
      "source": [
        "forward函数的输入和输出都是Tensor。"
      ]
    },
    {
      "cell_type": "code",
      "execution_count": null,
      "metadata": {
        "scrolled": true,
        "id": "N2BxlGJWO3tM",
        "outputId": "935d6516-7d52-45d9-d323-cd3ef24a9202"
      },
      "outputs": [
        {
          "data": {
            "text/plain": [
              "torch.Size([1, 10])"
            ]
          },
          "execution_count": 39,
          "metadata": {},
          "output_type": "execute_result"
        }
      ],
      "source": [
        "input = t.randn(1, 1, 32, 32)\n",
        "out = net(input)\n",
        "out.size()"
      ]
    },
    {
      "cell_type": "code",
      "execution_count": null,
      "metadata": {
        "id": "IjAkJcotO3tM"
      },
      "outputs": [],
      "source": [
        "net.zero_grad() # 所有参数的梯度清零\n",
        "out.backward(t.ones(1,10)) # 反向传播"
      ]
    },
    {
      "cell_type": "markdown",
      "metadata": {
        "id": "y8N8dhxPO3tM"
      },
      "source": [
        "需要注意的是，torch.nn只支持mini-batches，不支持一次只输入一个样本，即一次必须是一个batch。但如果只想输入一个样本，则用 `input.unsqueeze(0)`将batch_size设为１。例如 `nn.Conv2d` 输入必须是4维的，形如$nSamples \\times nChannels \\times Height \\times Width$。可将nSample设为1，即$1 \\times nChannels \\times Height \\times Width$。"
      ]
    },
    {
      "cell_type": "markdown",
      "metadata": {
        "id": "AWZFUlYaO3tM"
      },
      "source": [
        "#### 损失函数\n",
        "\n",
        "nn实现了神经网络中大多数的损失函数，例如nn.MSELoss用来计算均方误差，nn.CrossEntropyLoss用来计算交叉熵损失。"
      ]
    },
    {
      "cell_type": "code",
      "execution_count": null,
      "metadata": {
        "scrolled": true,
        "id": "PGeQJ5osO3tM",
        "outputId": "dd48ab24-59e0-49ec-c360-9166a1a5080e"
      },
      "outputs": [
        {
          "data": {
            "text/plain": [
              "tensor(28.6152, grad_fn=<MseLossBackward>)"
            ]
          },
          "execution_count": 42,
          "metadata": {},
          "output_type": "execute_result"
        }
      ],
      "source": [
        "output = net(input)\n",
        "target = t.arange(0,10).view(1,10).float() \n",
        "criterion = nn.MSELoss()\n",
        "loss = criterion(output, target)\n",
        "loss # loss是个scalar"
      ]
    },
    {
      "cell_type": "markdown",
      "metadata": {
        "id": "31RQXE20O3tM"
      },
      "source": [
        "如果对loss进行反向传播溯源(使用`gradfn`属性)，可看到它的计算图如下：\n",
        "\n",
        "```\n",
        "input -> conv2d -> relu -> maxpool2d -> conv2d -> relu -> maxpool2d  \n",
        "      -> view -> linear -> relu -> linear -> relu -> linear \n",
        "      -> MSELoss\n",
        "      -> loss\n",
        "```\n",
        "\n",
        "当调用`loss.backward()`时，该图会动态生成并自动微分，也即会自动计算图中参数(Parameter)的导数。"
      ]
    },
    {
      "cell_type": "code",
      "execution_count": null,
      "metadata": {
        "id": "r54GBdQBO3tN",
        "outputId": "38ee78f3-a911-426f-d305-78d4c7073534"
      },
      "outputs": [
        {
          "name": "stdout",
          "output_type": "stream",
          "text": [
            "反向传播之前 conv1.bias的梯度\n",
            "tensor([0., 0., 0., 0., 0., 0.])\n",
            "反向传播之后 conv1.bias的梯度\n",
            "tensor([ 0.1366,  0.0885, -0.0036,  0.1410,  0.0144,  0.0562])\n"
          ]
        }
      ],
      "source": [
        "# 运行.backward，观察调用之前和调用之后的grad\n",
        "net.zero_grad() # 把net中所有可学习参数的梯度清零\n",
        "print('反向传播之前 conv1.bias的梯度')\n",
        "print(net.conv1.bias.grad)\n",
        "loss.backward()\n",
        "print('反向传播之后 conv1.bias的梯度')\n",
        "print(net.conv1.bias.grad)"
      ]
    },
    {
      "cell_type": "markdown",
      "metadata": {
        "id": "4yX-JmuoO3tN"
      },
      "source": [
        "#### 优化器"
      ]
    },
    {
      "cell_type": "markdown",
      "metadata": {
        "id": "KOmRu7g0O3tN"
      },
      "source": [
        "在反向传播计算完所有参数的梯度后，还需要使用优化方法来更新网络的权重和参数，例如随机梯度下降法(SGD)的更新策略如下：\n",
        "```\n",
        "weight = weight - learning_rate * gradient\n",
        "```\n",
        "\n",
        "手动实现如下：\n",
        "\n",
        "```python\n",
        "learning_rate = 0.01\n",
        "for f in net.parameters():\n",
        "    f.data.sub_(f.grad.data * learning_rate)# inplace 减法\n",
        "```\n",
        "\n",
        "`torch.optim`中实现了深度学习中绝大多数的优化方法，例如RMSProp、Adam、SGD等，更便于使用，因此大多数时候并不需要手动写上述代码。"
      ]
    },
    {
      "cell_type": "code",
      "execution_count": null,
      "metadata": {
        "id": "piI69mKyO3tN"
      },
      "outputs": [],
      "source": [
        "import torch.optim as optim\n",
        "#新建一个优化器，指定要调整的参数和学习率\n",
        "optimizer = optim.SGD(net.parameters(), lr = 0.01)\n",
        "\n",
        "# 在训练过程中\n",
        "# 先梯度清零(与net.zero_grad()效果一样)\n",
        "optimizer.zero_grad() \n",
        "\n",
        "# 计算损失\n",
        "output = net(input)\n",
        "loss = criterion(output, target)\n",
        "\n",
        "#反向传播\n",
        "loss.backward()\n",
        "\n",
        "#更新参数\n",
        "optimizer.step()"
      ]
    },
    {
      "cell_type": "markdown",
      "metadata": {
        "id": "Cgh_4k4hO3tN"
      },
      "source": [
        "\n",
        "\n",
        "####  数据加载与预处理\n",
        "\n",
        "在深度学习中数据加载及预处理是非常复杂繁琐的，但PyTorch提供了一些可极大简化和加快数据处理流程的工具。同时，对于常用的数据集，PyTorch也提供了封装好的接口供用户快速调用，这些数据集主要保存在torchvison中。\n",
        "\n",
        "`torchvision`实现了常用的图像数据加载功能，例如Imagenet、CIFAR10、MNIST等，以及常用的数据转换操作，这极大地方便了数据加载，并且代码具有可重用性。\n",
        "\n",
        "\n",
        "### 小试牛刀：CIFAR-10分类\n",
        "\n",
        "下面我们来尝试实现对CIFAR-10数据集的分类，步骤如下: \n",
        "\n",
        "1. 使用torchvision加载并预处理CIFAR-10数据集\n",
        "2. 定义网络\n",
        "3. 定义损失函数和优化器\n",
        "4. 训练网络并更新网络参数\n",
        "5. 测试网络\n",
        "\n",
        "####   CIFAR-10数据加载及预处理\n",
        "\n",
        "CIFAR-10[^3]是一个常用的彩色图片数据集，它有10个类别: 'airplane', 'automobile', 'bird', 'cat', 'deer', 'dog', 'frog', 'horse', 'ship', 'truck'。每张图片都是$3\\times32\\times32$，也即3-通道彩色图片，分辨率为$32\\times32$。\n",
        "\n",
        "[^3]: http://www.cs.toronto.edu/~kriz/cifar.html"
      ]
    },
    {
      "cell_type": "code",
      "execution_count": 3,
      "metadata": {
        "id": "2cPmbWgDO3tN"
      },
      "outputs": [],
      "source": [
        "import torchvision as tv\n",
        "import torchvision.transforms as transforms\n",
        "from torchvision.transforms import ToPILImage\n",
        "show = ToPILImage() # 可以把Tensor转成Image，方便可视化"
      ]
    },
    {
      "cell_type": "code",
      "execution_count": 4,
      "metadata": {
        "id": "2nlbAvoAO3tN",
        "outputId": "82e7cf68-f67c-40c7-cd30-43b2b50b5d56",
        "colab": {
          "base_uri": "https://localhost:8080/",
          "height": 101,
          "referenced_widgets": [
            "6219e368731d44a8aa0c065277e2eb1b",
            "d500129280234083b1b7072aac744ef9",
            "79aca0031db245ef8c7c029ea2f5c814",
            "970eac8516b34ea1a84cd9195944c894",
            "c8cd0fccc23848f0bf84a54f47d58fe2",
            "466cdadce7da4ed5a2756f372753be82",
            "22bffcb708c7491b8dc760c7625774e2",
            "43130b0174144be58bbfd3f2bdebe341",
            "81a9f5befd8647c7bc7d52fdfeda100b",
            "3dc35c1e6dfa49dd978f62f232f68a02",
            "b2394efbc5c64cfe99056d80aa95364a"
          ]
        }
      },
      "outputs": [
        {
          "output_type": "stream",
          "name": "stdout",
          "text": [
            "Downloading https://www.cs.toronto.edu/~kriz/cifar-10-python.tar.gz to /home/cy/tmp/data/cifar-10-python.tar.gz\n"
          ]
        },
        {
          "output_type": "display_data",
          "data": {
            "application/vnd.jupyter.widget-view+json": {
              "model_id": "6219e368731d44a8aa0c065277e2eb1b",
              "version_minor": 0,
              "version_major": 2
            },
            "text/plain": [
              "  0%|          | 0/170498071 [00:00<?, ?it/s]"
            ]
          },
          "metadata": {}
        },
        {
          "output_type": "stream",
          "name": "stdout",
          "text": [
            "Extracting /home/cy/tmp/data/cifar-10-python.tar.gz to /home/cy/tmp/data/\n",
            "Files already downloaded and verified\n"
          ]
        }
      ],
      "source": [
        "# 第一次运行程序torchvision会自动下载CIFAR-10数据集，\n",
        "# 大约100M，需花费一定的时间，\n",
        "# 如果已经下载有CIFAR-10，可通过root参数指定\n",
        "\n",
        "# 定义对数据的预处理\n",
        "transform = transforms.Compose([\n",
        "        transforms.ToTensor(), # 转为Tensor\n",
        "        transforms.Normalize((0.5, 0.5, 0.5), (0.5, 0.5, 0.5)), # 归一化\n",
        "                             ])\n",
        "\n",
        "# 训练集\n",
        "trainset = tv.datasets.CIFAR10(\n",
        "                    root='/home/cy/tmp/data/', \n",
        "                    train=True, \n",
        "                    download=True,\n",
        "                    transform=transform)\n",
        "\n",
        "trainloader = t.utils.data.DataLoader(\n",
        "                    trainset, \n",
        "                    batch_size=4,\n",
        "                    shuffle=True, \n",
        "                    num_workers=2)\n",
        "\n",
        "# 测试集\n",
        "testset = tv.datasets.CIFAR10(\n",
        "                    '/home/cy/tmp/data/',\n",
        "                    train=False, \n",
        "                    download=True, \n",
        "                    transform=transform)\n",
        "\n",
        "testloader = t.utils.data.DataLoader(\n",
        "                    testset,\n",
        "                    batch_size=4, \n",
        "                    shuffle=False,\n",
        "                    num_workers=2)\n",
        "\n",
        "classes = ('plane', 'car', 'bird', 'cat',\n",
        "           'deer', 'dog', 'frog', 'horse', 'ship', 'truck')"
      ]
    },
    {
      "cell_type": "markdown",
      "metadata": {
        "id": "Sl8G7ts_O3tO"
      },
      "source": [
        "Dataset对象是一个数据集，可以按下标访问，返回形如(data, label)的数据。"
      ]
    },
    {
      "cell_type": "code",
      "execution_count": 8,
      "metadata": {
        "id": "UzMM9-zjO3tO",
        "outputId": "b09cb0bf-02b1-44ef-8bf6-cbd80e512f73",
        "colab": {
          "base_uri": "https://localhost:8080/",
          "height": 516
        }
      },
      "outputs": [
        {
          "output_type": "stream",
          "name": "stdout",
          "text": [
            "ship (tensor([[[0.6706, 0.6549, 0.6549,  ..., 0.1843, 0.1843, 0.1686],\n",
            "         [0.6784, 0.6627, 0.6627,  ..., 0.1922, 0.1922, 0.1843],\n",
            "         [0.6941, 0.6784, 0.6706,  ..., 0.2000, 0.2000, 0.1843],\n",
            "         ...,\n",
            "         [0.1373, 0.0667, 0.1216,  ..., 0.6941, 0.5373, 0.4353],\n",
            "         [0.0902, 0.0118, 0.0118,  ..., 0.7804, 0.7490, 0.6392],\n",
            "         [0.0745, 0.1216, 0.0667,  ..., 0.6392, 0.7020, 0.7882]],\n",
            "\n",
            "        [[0.7961, 0.7804, 0.7804,  ..., 0.3647, 0.3647, 0.3490],\n",
            "         [0.7961, 0.7804, 0.7804,  ..., 0.3725, 0.3725, 0.3647],\n",
            "         [0.7961, 0.7804, 0.7804,  ..., 0.3804, 0.3804, 0.3647],\n",
            "         ...,\n",
            "         [0.2471, 0.1608, 0.1922,  ..., 0.7020, 0.5451, 0.4353],\n",
            "         [0.2000, 0.1137, 0.0902,  ..., 0.7882, 0.7569, 0.6392],\n",
            "         [0.1922, 0.2157, 0.1373,  ..., 0.6392, 0.7020, 0.7882]],\n",
            "\n",
            "        [[0.8980, 0.8824, 0.8824,  ..., 0.6157, 0.6157, 0.6000],\n",
            "         [0.8902, 0.8745, 0.8745,  ..., 0.6235, 0.6235, 0.6078],\n",
            "         [0.8745, 0.8588, 0.8588,  ..., 0.6157, 0.6157, 0.6000],\n",
            "         ...,\n",
            "         [0.2941, 0.2078, 0.2392,  ..., 0.6157, 0.4980, 0.4275],\n",
            "         [0.2471, 0.1608, 0.1373,  ..., 0.7176, 0.7176, 0.6392],\n",
            "         [0.2314, 0.2627, 0.1922,  ..., 0.5922, 0.6706, 0.7725]]]), 8)\n"
          ]
        },
        {
          "output_type": "execute_result",
          "data": {
            "image/png": "[encoded data removed]",
            "text/plain": [
              "<PIL.Image.Image image mode=RGB size=100x100 at 0x7F616BF7CC10>"
            ]
          },
          "metadata": {},
          "execution_count": 8
        }
      ],
      "source": [
        "(data, label) = trainset[100]\n",
        "print(classes[label], trainset[100])\n",
        "\n",
        "# (data + 1) / 2是为了还原被归一化的数据\n",
        "show((data + 1) / 2).resize((100, 100))"
      ]
    },
    {
      "cell_type": "markdown",
      "metadata": {
        "id": "TTEgSY3lO3tO"
      },
      "source": [
        "Dataloader是一个可迭代的对象，它将dataset返回的每一条数据拼接成一个batch，并提供多线程加速优化和数据打乱等操作。当程序对dataset的所有数据遍历完一遍之后，相应的对Dataloader也完成了一次迭代。"
      ]
    },
    {
      "cell_type": "code",
      "execution_count": 13,
      "metadata": {
        "id": "DM1P-lLXO3tO",
        "outputId": "78c2509d-1562-4674-b07b-d0cddb269a53",
        "colab": {
          "base_uri": "https://localhost:8080/"
        }
      },
      "outputs": [
        {
          "output_type": "stream",
          "name": "stdout",
          "text": [
            "       ship        frog       horse        bird\n",
            "torch.Size([4, 3, 32, 32]) torch.Size([4])\n"
          ]
        }
      ],
      "source": [
        "dataiter = iter(trainloader)\n",
        "images, labels = dataiter.next() # 返回4张图片及标签\n",
        "print(' '.join('%11s'%classes[labels[j]] for j in range(4)))\n",
        "show(tv.utils.make_grid((images+1)/2)).resize((400,100))\n",
        "\n",
        "print(images.shape, labels.shape)"
      ]
    },
    {
      "cell_type": "markdown",
      "metadata": {
        "id": "c7YqqaYBO3tO"
      },
      "source": [
        "####   定义网络\n",
        "\n",
        "拷贝上面的LeNet网络，修改self.conv1第一个参数为3通道，因CIFAR-10是3通道彩图。"
      ]
    },
    {
      "cell_type": "code",
      "execution_count": 10,
      "metadata": {
        "id": "a4qE6CXoO3tP",
        "outputId": "6c4cb342-a10f-4508-9404-07897f70c79f",
        "colab": {
          "base_uri": "https://localhost:8080/"
        }
      },
      "outputs": [
        {
          "output_type": "stream",
          "name": "stdout",
          "text": [
            "Net(\n",
            "  (conv1): Conv2d(3, 6, kernel_size=(5, 5), stride=(1, 1))\n",
            "  (conv2): Conv2d(6, 16, kernel_size=(5, 5), stride=(1, 1))\n",
            "  (fc1): Linear(in_features=400, out_features=120, bias=True)\n",
            "  (fc2): Linear(in_features=120, out_features=84, bias=True)\n",
            "  (fc3): Linear(in_features=84, out_features=10, bias=True)\n",
            ")\n"
          ]
        }
      ],
      "source": [
        "import torch.nn as nn\n",
        "import torch.nn.functional as F\n",
        "\n",
        "class Net(nn.Module):\n",
        "    def __init__(self):\n",
        "        super(Net, self).__init__()\n",
        "        self.conv1 = nn.Conv2d(3, 6, 5) \n",
        "        self.conv2 = nn.Conv2d(6, 16, 5)  \n",
        "        self.fc1   = nn.Linear(16*5*5, 120)  \n",
        "        self.fc2   = nn.Linear(120, 84)\n",
        "        self.fc3   = nn.Linear(84, 10)\n",
        "\n",
        "    def forward(self, x): \n",
        "        x = F.max_pool2d(F.relu(self.conv1(x)), (2, 2)) \n",
        "        x = F.max_pool2d(F.relu(self.conv2(x)), 2) \n",
        "        x = x.view(x.size()[0], -1) \n",
        "        x = F.relu(self.fc1(x))\n",
        "        x = F.relu(self.fc2(x))\n",
        "        x = self.fc3(x)\n",
        "        print(x.shape)       \n",
        "        return x\n",
        "\n",
        "\n",
        "net = Net()\n",
        "print(net)"
      ]
    },
    {
      "cell_type": "markdown",
      "metadata": {
        "id": "Z-MWL6zHO3tP"
      },
      "source": [
        "####  定义损失函数和优化器(loss和optimizer)"
      ]
    },
    {
      "cell_type": "code",
      "execution_count": 11,
      "metadata": {
        "id": "GpqESXnvO3tP"
      },
      "outputs": [],
      "source": [
        "from torch import optim\n",
        "criterion = nn.CrossEntropyLoss() # 交叉熵损失函数\n",
        "optimizer = optim.SGD(net.parameters(), lr=0.001, momentum=0.9)"
      ]
    },
    {
      "cell_type": "markdown",
      "metadata": {
        "id": "QORYfGgqO3tP"
      },
      "source": [
        "###   训练网络\n",
        "\n",
        "所有网络的训练流程都是类似的，不断地执行如下流程：\n",
        "\n",
        "- 输入数据\n",
        "- 前向传播+反向传播\n",
        "- 更新参数\n"
      ]
    },
    {
      "cell_type": "code",
      "execution_count": null,
      "metadata": {
        "id": "6HUGhgoxO3tP"
      },
      "outputs": [],
      "source": [
        "t.set_num_threads(8)\n",
        "for epoch in range(2):  \n",
        "    \n",
        "    running_loss = 0.0\n",
        "    for i, data in enumerate(trainloader, 0):\n",
        "        \n",
        "        # 输入数据\n",
        "        inputs, labels = data\n",
        "        \n",
        "        # 梯度清零\n",
        "        optimizer.zero_grad()\n",
        "        \n",
        "        # forward + backward \n",
        "        outputs = net(inputs)\n",
        "        loss = criterion(outputs, labels)\n",
        "        loss.backward()   \n",
        "        \n",
        "        # 更新参数 \n",
        "        optimizer.step()\n",
        "        \n",
        "        # 打印log信息\n",
        "        # loss 是一个scalar,需要使用loss.item()来获取数值，不能使用loss[0]\n",
        "        running_loss += loss.item()\n",
        "        if i % 2000 == 1999: # 每2000个batch打印一下训练状态\n",
        "            print('[%d, %5d] loss: %.3f' \\\n",
        "                  % (epoch+1, i+1, running_loss / 2000))\n",
        "            running_loss = 0.0\n",
        "print('Finished Training')"
      ]
    },
    {
      "cell_type": "markdown",
      "metadata": {
        "id": "cKnv5ORwO3tP"
      },
      "source": [
        "此处仅训练了2个epoch（遍历完一遍数据集称为一个epoch），来看看网络有没有效果。将测试图片输入到网络中，计算它的label，然后与实际的label进行比较。"
      ]
    },
    {
      "cell_type": "code",
      "execution_count": null,
      "metadata": {
        "id": "jEzpvN1OO3tP",
        "outputId": "95a657c2-3391-4293-c63b-49aa2f6b2bc4"
      },
      "outputs": [
        {
          "name": "stdout",
          "output_type": "stream",
          "text": [
            "实际的label:       cat     ship     ship    plane\n"
          ]
        },
        {
          "data": {
            "image/png": "[encoded data removed]",
            "text/plain": [
              "<PIL.Image.Image image mode=RGB size=400x100 at 0x7F632C0DB110>"
            ]
          },
          "execution_count": 52,
          "metadata": {},
          "output_type": "execute_result"
        }
      ],
      "source": [
        "dataiter = iter(testloader)\n",
        "images, labels = dataiter.next() # 一个batch返回4张图片\n",
        "print('实际的label: ', ' '.join(\\\n",
        "            '%08s'%classes[labels[j]] for j in range(4)))\n",
        "show(tv.utils.make_grid(images / 2 - 0.5)).resize((400,100))\n"
      ]
    },
    {
      "cell_type": "markdown",
      "metadata": {
        "id": "W8EQxbLCO3tQ"
      },
      "source": [
        "接着计算网络预测的label："
      ]
    },
    {
      "cell_type": "code",
      "execution_count": null,
      "metadata": {
        "id": "0E92QQLwO3tQ",
        "outputId": "77c36909-0ab2-4e7d-d604-ba53ebf0b9e0"
      },
      "outputs": [
        {
          "name": "stdout",
          "output_type": "stream",
          "text": [
            "预测结果:    dog  ship plane plane\n"
          ]
        }
      ],
      "source": [
        "# 计算图片在每个类别上的分数\n",
        "outputs = net(images)\n",
        "# 得分最高的那个类\n",
        "_, predicted = t.max(outputs.data, 1)\n",
        "\n",
        "print('预测结果: ', ' '.join('%5s'\\\n",
        "            % classes[predicted[j]] for j in range(4)))"
      ]
    },
    {
      "cell_type": "markdown",
      "metadata": {
        "id": "04ZL3pDVO3tQ"
      },
      "source": [
        "已经可以看出效果，准确率50%，但这只是一部分的图片，再来看看在整个测试集上的效果。"
      ]
    },
    {
      "cell_type": "code",
      "execution_count": null,
      "metadata": {
        "id": "MOQjOrdEO3tQ",
        "outputId": "7618a37f-3038-47bc-a132-3d77faae141e"
      },
      "outputs": [
        {
          "name": "stdout",
          "output_type": "stream",
          "text": [
            "10000张测试集中的准确率为: 53 %\n"
          ]
        }
      ],
      "source": [
        "correct = 0 # 预测正确的图片数\n",
        "total = 0 # 总共的图片数\n",
        "\n",
        "\n",
        "# 由于测试的时候不需要求导，可以暂时关闭autograd，提高速度，节约内存\n",
        "with t.no_grad():\n",
        "    for data in testloader:\n",
        "        images, labels = data\n",
        "        outputs = net(images)\n",
        "        _, predicted = t.max(outputs, 1)\n",
        "        total += labels.size(0)\n",
        "        correct += (predicted == labels).sum()\n",
        "\n",
        "print('10000张测试集中的准确率为: %d %%' % (100 * correct / total))"
      ]
    },
    {
      "cell_type": "markdown",
      "metadata": {
        "id": "jNb9CfiqO3tQ"
      },
      "source": [
        "训练的准确率远比随机猜测(准确率10%)好，证明网络确实学到了东西。"
      ]
    },
    {
      "cell_type": "markdown",
      "metadata": {
        "id": "kG0MjlW9O3tQ"
      },
      "source": [
        "####  在GPU训练\n",
        "就像之前把Tensor从CPU转到GPU一样，模型也可以类似地从CPU转到GPU。"
      ]
    },
    {
      "cell_type": "code",
      "execution_count": null,
      "metadata": {
        "id": "JoKQ1O7dO3tQ",
        "outputId": "c6b3606d-cf5a-41f2-b614-c7d84627c139"
      },
      "outputs": [
        {
          "data": {
            "text/plain": [
              "tensor(0.9488, device='cuda:0', grad_fn=<NllLossBackward>)"
            ]
          },
          "execution_count": 55,
          "metadata": {},
          "output_type": "execute_result"
        }
      ],
      "source": [
        "device = t.device(\"cuda:0\" if t.cuda.is_available() else \"cpu\")\n",
        "\n",
        "net.to(device)\n",
        "images = images.to(device)\n",
        "labels = labels.to(device)\n",
        "output = net(images)\n",
        "loss= criterion(output,labels)\n",
        "\n",
        "loss"
      ]
    },
    {
      "cell_type": "markdown",
      "metadata": {
        "id": "_jjWvWWbO3tR"
      },
      "source": [
        "如果发现在GPU上并没有比CPU提速很多，实际上是因为网络比较小，GPU没有完全发挥自己的真正实力。"
      ]
    },
    {
      "cell_type": "markdown",
      "metadata": {
        "id": "ZUuooZ_UO3tR"
      },
      "source": [
        "对PyTorch的基础介绍至此结束。总结一下，本节主要包含以下内容。\n",
        "\n",
        "1. Tensor: 类似Numpy数组的数据结构，与Numpy接口类似，可方便地互相转换。\n",
        "2. autograd/: 为tensor提供自动求导功能。\n",
        "3. nn: 专门为神经网络设计的接口，提供了很多有用的功能(神经网络层，损失函数，优化器等)。\n",
        "4. 神经网络训练: 以CIFAR-10分类为例演示了神经网络的训练流程，包括数据加载、网络搭建、训练及测试。\n",
        "\n",
        "通过本节的学习，相信读者可以体会出PyTorch具有接口简单、使用灵活等特点。从下一章开始，本书将深入系统地讲解PyTorch的各部分知识。"
      ]
    },
    {
      "cell_type": "markdown",
      "source": [
        "# AUS rain prediction"
      ],
      "metadata": {
        "id": "JAqLzOK88_2h"
      }
    },
    {
      "cell_type": "code",
      "source": [
        "import os\n",
        "import numpy as np\n",
        "import pandas as pd\n",
        "from tqdm import tqdm\n",
        "import seaborn as sns\n",
        "from pylab import rcParams\n",
        "import matplotlib.pyplot as plt\n",
        "from matplotlib import rc\n",
        "from sklearn.model_selection import train_test_split\n",
        "from sklearn.metrics import confusion_matrix, classification_report\n",
        "from torch import nn, optim\n",
        "import torch.nn.functional as F\n",
        "import torch\n",
        "\n",
        "%matplotlib inline\n",
        "%config InlineBackend.figure_format='retina'\n",
        "\n",
        "sns.set(style='whitegrid', palette='muted', font_scale=1.2)\n",
        "HAPPY_COLORS_PALETTE = [\"#01BEFE\", \"#FFDD00\", \"#FF7D00\", \"#FF006D\", \"#93D30C\", \"#8F00FF\"]\n",
        "sns.set_palette(sns.color_palette(HAPPY_COLORS_PALETTE))\n",
        "rcParams['figure.figsize'] = 12, 6\n",
        "RANDOM_SEED = 42\n",
        "np.random.seed(RANDOM_SEED)\n",
        "torch.manual_seed(RANDOM_SEED)\n",
        "df = pd.read_csv('./weatherAUS.csv')"
      ],
      "metadata": {
        "id": "412WD8jd6ioV"
      },
      "execution_count": 5,
      "outputs": []
    },
    {
      "cell_type": "code",
      "source": [
        "features = df.columns.values.tolist()\n",
        "features.remove('Date')\n",
        "features.remove('Location')\n",
        "df = df[features]\n",
        "df.head()\n",
        "df['WindDir3pm'].unique()"
      ],
      "metadata": {
        "id": "Y1czlGKH6mFI",
        "outputId": "e61de915-6a5a-4900-f86d-8399f9f3eec3",
        "colab": {
          "base_uri": "https://localhost:8080/"
        }
      },
      "execution_count": 10,
      "outputs": [
        {
          "output_type": "execute_result",
          "data": {
            "text/plain": [
              "array([12, 10,  6, 15, 14,  8,  1,  3,  9,  5,  7,  0,  2,  4, 11, 13])"
            ]
          },
          "metadata": {},
          "execution_count": 10
        }
      ]
    },
    {
      "cell_type": "code",
      "source": [
        "df['RainToday'].replace({'No': 0, 'Yes': 1}, inplace = True)\n",
        "df['RainTomorrow'].replace({'No': 0, 'Yes': 1}, inplace = True)\n",
        "df = df.dropna(how='any')\n",
        "df.head()\n",
        "categorical_features = ['WindGustDir', 'WindDir9am', 'WindDir3pm',]"
      ],
      "metadata": {
        "id": "jpWj-QTl8e_-"
      },
      "execution_count": 6,
      "outputs": []
    },
    {
      "cell_type": "code",
      "source": [
        "# Adhoc test on embedding learning\n",
        "num_classes = 2\n",
        "embedding_size = 4\n",
        "\n",
        "embedding = nn.Embedding(num_classes, embedding_size)\n",
        "\n",
        "class_vector = torch.tensor([1, 0, 0, 0, 1])\n",
        "\n",
        "embedded_classes = embedding(class_vector)\n",
        "embedded_classes.size() # => torch.Size([5, 10])\n",
        "# print([x for x in embedded_classes])\n",
        "torch.cat([x for x in embedded_classes], 0)"
      ],
      "metadata": {
        "id": "L4gHGZV48gVN",
        "outputId": "f88aa1be-bfad-4931-ab54-90e5d9c3feed",
        "colab": {
          "base_uri": "https://localhost:8080/"
        }
      },
      "execution_count": 71,
      "outputs": [
        {
          "output_type": "execute_result",
          "data": {
            "text/plain": [
              "tensor([-1.1229, -0.1863,  2.2082, -0.6380,  0.3367,  0.1288,  0.2345,  0.2303,\n",
              "         0.3367,  0.1288,  0.2345,  0.2303,  0.3367,  0.1288,  0.2345,  0.2303,\n",
              "        -1.1229, -0.1863,  2.2082, -0.6380], grad_fn=<CatBackward0>)"
            ]
          },
          "metadata": {},
          "execution_count": 71
        }
      ]
    },
    {
      "cell_type": "code",
      "source": [
        "sns.countplot(df.RainTomorrow);\n",
        "df.RainTomorrow.value_counts() / df.shape[0]"
      ],
      "metadata": {
        "id": "Booru1XrAZEt",
        "outputId": "64cb76df-c691-47a7-f5d8-7a5106c16521",
        "colab": {
          "base_uri": "https://localhost:8080/",
          "height": 505
        }
      },
      "execution_count": 35,
      "outputs": [
        {
          "output_type": "stream",
          "name": "stderr",
          "text": [
            "/usr/local/lib/python3.7/dist-packages/seaborn/_decorators.py:43: FutureWarning: Pass the following variable as a keyword arg: x. From version 0.12, the only valid positional argument will be `data`, and passing other arguments without an explicit keyword will result in an error or misinterpretation.\n",
            "  FutureWarning\n"
          ]
        },
        {
          "output_type": "execute_result",
          "data": {
            "text/plain": [
              "0.0    0.780888\n",
              "1.0    0.219112\n",
              "Name: RainTomorrow, dtype: float64"
            ]
          },
          "metadata": {},
          "execution_count": 35
        },
        {
          "output_type": "display_data",
          "data": {
            "image/png": "[encoded data removed]",
            "text/plain": [
              "<Figure size 864x432 with 1 Axes>"
            ]
          },
          "metadata": {
            "image/png": {
              "width": 753,
              "height": 381
            }
          }
        }
      ]
    },
    {
      "cell_type": "code",
      "source": [
        "import pandas as pd\n",
        "from sklearn.preprocessing import LabelEncoder\n",
        "import torch.nn.functional as F\n",
        "from torch.utils.data import Dataset, DataLoader\n",
        "\n",
        "\n",
        "class TabularDataset(Dataset):\n",
        "    def __init__(self, data, cat_cols=None, output_col=None):\n",
        "        \"\"\"\n",
        "        Characterizes a Dataset for PyTorch\n",
        "\n",
        "        Parameters\n",
        "        ----------\n",
        "\n",
        "        data: pandas data frame\n",
        "        The data frame object for the input data. It must\n",
        "        contain all the continuous, categorical and the\n",
        "        output columns to be used.\n",
        "\n",
        "        cat_cols: List of strings\n",
        "        The names of the categorical columns in the data.\n",
        "        These columns will be passed through the embedding\n",
        "        layers in the model. These columns must be\n",
        "        label encoded beforehand. \n",
        "\n",
        "        output_col: string\n",
        "        The name of the output variable column in the data\n",
        "        provided.\n",
        "        \"\"\"\n",
        "\n",
        "        self.n = data.shape[0]\n",
        "\n",
        "        if output_col:\n",
        "            self.y = data[output_col].astype(np.float32).values.reshape(-1, 1)\n",
        "        else:\n",
        "            self.y = np.zeros((self.n, 1))\n",
        "\n",
        "        self.cat_cols = cat_cols if cat_cols else []\n",
        "        self.cont_cols = [\n",
        "            col for col in data.columns if col not in self.cat_cols + [output_col]\n",
        "        ]\n",
        "\n",
        "        if self.cont_cols:\n",
        "            self.cont_X = data[self.cont_cols].astype(np.float32).values\n",
        "        else:\n",
        "            self.cont_X = np.zeros((self.n, 1))\n",
        "\n",
        "        if self.cat_cols:\n",
        "            self.cat_X = data[cat_cols].astype(np.int64).values\n",
        "        else:\n",
        "            self.cat_X = np.zeros((self.n, 1))\n",
        "\n",
        "    def __len__(self):\n",
        "        \"\"\"\n",
        "        Denotes the total number of samples.\n",
        "        \"\"\"\n",
        "        return self.n\n",
        "\n",
        "    def __getitem__(self, idx):\n",
        "        \"\"\"\n",
        "        Generates one sample of data.\n",
        "        \"\"\"\n",
        "        return [self.y[idx], self.cont_X[idx], self.cat_X[idx]]\n",
        "\n",
        "\n",
        "class FeedForwardNN(nn.Module):\n",
        "    def __init__(\n",
        "        self,\n",
        "        emb_dims,\n",
        "        no_of_cont,\n",
        "        lin_layer_sizes,\n",
        "        output_size,\n",
        "        emb_dropout,\n",
        "        lin_layer_dropouts,\n",
        "    ):\n",
        "\n",
        "        \"\"\"\n",
        "        Parameters\n",
        "        ----------\n",
        "\n",
        "        emb_dims: List of two element tuples\n",
        "        This list will contain a two element tuple for each\n",
        "        categorical feature. The first element of a tuple will\n",
        "        denote the number of unique values of the categorical\n",
        "        feature. The second element will denote the embedding\n",
        "        dimension to be used for that feature.\n",
        "\n",
        "        no_of_cont: Integer\n",
        "        The number of continuous features in the data.\n",
        "\n",
        "        lin_layer_sizes: List of integers.\n",
        "        The size of each linear layer. The length will be equal\n",
        "        to the total number\n",
        "        of linear layers in the network.\n",
        "\n",
        "        output_size: Integer\n",
        "        The size of the final output.\n",
        "\n",
        "        emb_dropout: Float\n",
        "        The dropout to be used after the embedding layers.\n",
        "\n",
        "        lin_layer_dropouts: List of floats\n",
        "        The dropouts to be used after each linear layer.\n",
        "        \"\"\"\n",
        "\n",
        "        super().__init__()\n",
        "\n",
        "        # Embedding layers\n",
        "        self.emb_layers = nn.ModuleList([nn.Embedding(x, y) for x, y in emb_dims])\n",
        "\n",
        "        no_of_embs = sum([y for x, y in emb_dims])\n",
        "        self.no_of_embs = no_of_embs\n",
        "        self.no_of_cont = no_of_cont\n",
        "\n",
        "        # Linear Layers\n",
        "        first_lin_layer = nn.Linear(\n",
        "            self.no_of_embs + self.no_of_cont, lin_layer_sizes[0]\n",
        "        )\n",
        "\n",
        "        self.lin_layers = nn.ModuleList(\n",
        "            [first_lin_layer]\n",
        "            + [\n",
        "                nn.Linear(lin_layer_sizes[i], lin_layer_sizes[i + 1])\n",
        "                for i in range(len(lin_layer_sizes) - 1)\n",
        "            ]\n",
        "        )\n",
        "\n",
        "        for lin_layer in self.lin_layers:\n",
        "            nn.init.kaiming_normal_(lin_layer.weight.data)\n",
        "\n",
        "        # Output Layer\n",
        "        self.output_layer = nn.Linear(lin_layer_sizes[-1], output_size)\n",
        "        nn.init.kaiming_normal_(self.output_layer.weight.data)\n",
        "\n",
        "        # Batch Norm Layers\n",
        "        self.first_bn_layer = nn.BatchNorm1d(self.no_of_cont)\n",
        "        self.bn_layers = nn.ModuleList(\n",
        "            [nn.BatchNorm1d(size) for size in lin_layer_sizes]\n",
        "        )\n",
        "\n",
        "        # Dropout Layers\n",
        "        self.emb_dropout_layer = nn.Dropout(emb_dropout)\n",
        "        self.droput_layers = nn.ModuleList(\n",
        "            [nn.Dropout(size) for size in lin_layer_dropouts]\n",
        "        )\n",
        "\n",
        "    def forward(self, cont_data, cat_data):\n",
        "\n",
        "        if self.no_of_embs != 0:\n",
        "            x = [\n",
        "                emb_layer(cat_data[:, i]) for i, emb_layer in enumerate(self.emb_layers)\n",
        "            ]\n",
        "            x = torch.cat(x, 1)\n",
        "            x = self.emb_dropout_layer(x)\n",
        "\n",
        "        if self.no_of_cont != 0:\n",
        "            normalized_cont_data = self.first_bn_layer(cont_data)\n",
        "\n",
        "            if self.no_of_embs != 0:\n",
        "                x = torch.cat([x, normalized_cont_data], 1)\n",
        "            else:\n",
        "                x = normalized_cont_data\n",
        "\n",
        "        for lin_layer, dropout_layer, bn_layer in zip(\n",
        "            self.lin_layers, self.droput_layers, self.bn_layers\n",
        "        ):\n",
        "\n",
        "            x = F.relu(lin_layer(x))\n",
        "            x = bn_layer(x)\n",
        "            x = dropout_layer(x)\n",
        "\n",
        "        x = torch.sigmoid(self.output_layer(x))\n",
        "\n",
        "        return x"
      ],
      "metadata": {
        "id": "K0kCqw3SCKst"
      },
      "execution_count": 28,
      "outputs": []
    },
    {
      "cell_type": "code",
      "source": [
        "output_feature = \"RainTomorrow\"\n",
        "label_encoders = {}\n",
        "for cat_col in categorical_features:\n",
        "      label_encoders[cat_col] = LabelEncoder()\n",
        "      df[cat_col] = label_encoders[cat_col].fit_transform(df[cat_col])\n",
        "\n",
        "\n",
        "# X = df[[feature for feature in features if feature != 'RainTomorrow']]\n",
        "# y = df[['RainTomorrow']]\n",
        "\n",
        "df_train, df_test = train_test_split(df, test_size=0.1, random_state=RANDOM_SEED)\n",
        "# X_train = torch.from_numpy(X_train.to_numpy()).float()\n",
        "# y_train = torch.squeeze(torch.from_numpy(y_train.to_numpy()).float())\n",
        "\n",
        "# X_test = torch.from_numpy(X_test.to_numpy()).float()\n",
        "# y_test = torch.squeeze(torch.from_numpy(y_test.to_numpy()).float())\n",
        "\n",
        "# print(X_train.shape, y_train.shape)\n",
        "# print(X_test.shape, y_test.shape)"
      ],
      "metadata": {
        "id": "_xm_q0kmHgbT"
      },
      "execution_count": 16,
      "outputs": []
    },
    {
      "cell_type": "code",
      "source": [
        "dataset = TabularDataset(data=df_train, cat_cols=categorical_features,\n",
        "                             output_col=output_feature)\n",
        "batchsize = 64\n",
        "dataloader = DataLoader(dataset, batchsize, shuffle=True, num_workers=1)"
      ],
      "metadata": {
        "id": "Sp12DIl6f57f"
      },
      "execution_count": 31,
      "outputs": []
    },
    {
      "cell_type": "code",
      "source": [
        "cat_dims = [int(df_train[col].nunique()) for col in categorical_features]\n",
        "print(cat_dims)\n",
        "emb_dims = [(x, min(10, (x + 1) // 2)) for x in cat_dims]\n",
        "print(emb_dims)\n",
        "\n",
        "model = FeedForwardNN(emb_dims, no_of_cont=len(features) - 1 - len(categorical_features), lin_layer_sizes=[50, 50],\n",
        "                          output_size=1, emb_dropout=0.04,\n",
        "                          lin_layer_dropouts=[0.001,0.01])"
      ],
      "metadata": {
        "id": "THKjKzPxf7Uf",
        "outputId": "c566dbf3-a097-4b82-ea95-cbe64367fe6a",
        "colab": {
          "base_uri": "https://localhost:8080/"
        }
      },
      "execution_count": 43,
      "outputs": [
        {
          "output_type": "stream",
          "name": "stdout",
          "text": [
            "[16, 16, 16]\n",
            "[(16, 8), (16, 8), (16, 8)]\n"
          ]
        }
      ]
    },
    {
      "cell_type": "code",
      "source": [
        "no_of_epochs = 10\n",
        "criterion = nn.BCELoss()\n",
        "optimizer = torch.optim.Adam(model.parameters(), lr=0.001)\n",
        "for epoch in range(no_of_epochs):\n",
        "    for i, data in enumerate(dataloader, 0):\n",
        "        y, cont_x, cat_x = data\n",
        "        cat_x = cat_x\n",
        "        cont_x = cont_x\n",
        "        y = y\n",
        "\n",
        "        # Forward Pass\n",
        "        preds = model(cont_x, cat_x)\n",
        "        loss = criterion(preds, y)\n",
        "\n",
        "        # Backward Pass and Optimization\n",
        "        optimizer.zero_grad()\n",
        "        loss.backward()\n",
        "        optimizer.step()\n",
        "        if i % 100 == 0:\n",
        "          print(\"epoch\", epoch, loss.item())"
      ],
      "metadata": {
        "id": "DGvRhiFgufwP"
      },
      "execution_count": null,
      "outputs": []
    },
    {
      "cell_type": "code",
      "source": [
        "dataset_test = TabularDataset(data=df_test, cat_cols=categorical_features,\n",
        "                             output_col=output_feature)\n",
        "batchsize = 64\n",
        "dataloader_test = DataLoader(dataset_test, batchsize, shuffle=True, num_workers=1)\n",
        "y_pred = torch.Tensor()\n",
        "\n",
        "for i, data in enumerate(dataloader_test, 0):\n",
        "        y, cont_x, cat_x = data\n",
        "        cat_x = cat_x\n",
        "        cont_x = cont_x\n",
        "\n",
        "        # Forward Pass\n",
        "        preds = model(cont_x, cat_x)\n",
        "        loss = criterion(preds, y)\n",
        "        y_pred = torch.cat([y_pred, preds], 0)\n",
        "\n",
        "        # Backward Pass and Optimization\n",
        "        optimizer.zero_grad()\n",
        "        loss.backward()\n",
        "        optimizer.step()\n",
        "        if i % 100 == 0:\n",
        "          print(\"epoch\", epoch, loss.item())"
      ],
      "metadata": {
        "id": "ZAgv__QGy6gp",
        "outputId": "a46b1dc8-2899-4444-c415-41fd404fd56f",
        "colab": {
          "base_uri": "https://localhost:8080/"
        }
      },
      "execution_count": 50,
      "outputs": [
        {
          "output_type": "stream",
          "name": "stdout",
          "text": [
            "epoch 9 0.5031262636184692\n"
          ]
        }
      ]
    },
    {
      "cell_type": "code",
      "source": [
        "y_pred = y_pred.ge(.5).view(-1)\n",
        "y_test = df_test['RainTomorrow']\n",
        "classes = ['No rain', 'Raining']\n",
        "\n",
        "print(classification_report(y_test, y_pred, \n",
        "                            target_names=classes))"
      ],
      "metadata": {
        "id": "KWP3C9D70jaL",
        "outputId": "d5edd55c-8e99-474d-8d29-5ee22f2e30ad",
        "colab": {
          "base_uri": "https://localhost:8080/"
        }
      },
      "execution_count": 52,
      "outputs": [
        {
          "output_type": "stream",
          "name": "stdout",
          "text": [
            "              precision    recall  f1-score   support\n",
            "\n",
            "     No rain       0.78      0.82      0.80      4351\n",
            "     Raining       0.25      0.21      0.23      1291\n",
            "\n",
            "    accuracy                           0.68      5642\n",
            "   macro avg       0.51      0.51      0.51      5642\n",
            "weighted avg       0.66      0.68      0.67      5642\n",
            "\n"
          ]
        }
      ]
    }
  ],
  "metadata": {
    "kernelspec": {
      "display_name": "Python 3",
      "name": "python3"
    },
    "language_info": {
      "name": "python"
    },
    "colab": {
      "name": "chapter2: PyTorch快速入门.ipynb",
      "provenance": []
    },
    "widgets": {
      "application/vnd.jupyter.widget-state+json": {
        "6219e368731d44a8aa0c065277e2eb1b": {
          "model_module": "@jupyter-widgets/controls",
          "model_name": "HBoxModel",
          "model_module_version": "1.5.0",
          "state": {
            "_view_name": "HBoxView",
            "_dom_classes": [],
            "_model_name": "HBoxModel",
            "_view_module": "@jupyter-widgets/controls",
            "_model_module_version": "1.5.0",
            "_view_count": null,
            "_view_module_version": "1.5.0",
            "box_style": "",
            "layout": "IPY_MODEL_d500129280234083b1b7072aac744ef9",
            "_model_module": "@jupyter-widgets/controls",
            "children": [
              "IPY_MODEL_79aca0031db245ef8c7c029ea2f5c814",
              "IPY_MODEL_970eac8516b34ea1a84cd9195944c894",
              "IPY_MODEL_c8cd0fccc23848f0bf84a54f47d58fe2"
            ]
          }
        },
        "d500129280234083b1b7072aac744ef9": {
          "model_module": "@jupyter-widgets/base",
          "model_name": "LayoutModel",
          "model_module_version": "1.2.0",
          "state": {
            "_view_name": "LayoutView",
            "grid_template_rows": null,
            "right": null,
            "justify_content": null,
            "_view_module": "@jupyter-widgets/base",
            "overflow": null,
            "_model_module_version": "1.2.0",
            "_view_count": null,
            "flex_flow": null,
            "width": null,
            "min_width": null,
            "border": null,
            "align_items": null,
            "bottom": null,
            "_model_module": "@jupyter-widgets/base",
            "top": null,
            "grid_column": null,
            "overflow_y": null,
            "overflow_x": null,
            "grid_auto_flow": null,
            "grid_area": null,
            "grid_template_columns": null,
            "flex": null,
            "_model_name": "LayoutModel",
            "justify_items": null,
            "grid_row": null,
            "max_height": null,
            "align_content": null,
            "visibility": null,
            "align_self": null,
            "height": null,
            "min_height": null,
            "padding": null,
            "grid_auto_rows": null,
            "grid_gap": null,
            "max_width": null,
            "order": null,
            "_view_module_version": "1.2.0",
            "grid_template_areas": null,
            "object_position": null,
            "object_fit": null,
            "grid_auto_columns": null,
            "margin": null,
            "display": null,
            "left": null
          }
        },
        "79aca0031db245ef8c7c029ea2f5c814": {
          "model_module": "@jupyter-widgets/controls",
          "model_name": "HTMLModel",
          "model_module_version": "1.5.0",
          "state": {
            "_view_name": "HTMLView",
            "style": "IPY_MODEL_466cdadce7da4ed5a2756f372753be82",
            "_dom_classes": [],
            "description": "",
            "_model_name": "HTMLModel",
            "placeholder": "​",
            "_view_module": "@jupyter-widgets/controls",
            "_model_module_version": "1.5.0",
            "value": "",
            "_view_count": null,
            "_view_module_version": "1.5.0",
            "description_tooltip": null,
            "_model_module": "@jupyter-widgets/controls",
            "layout": "IPY_MODEL_22bffcb708c7491b8dc760c7625774e2"
          }
        },
        "970eac8516b34ea1a84cd9195944c894": {
          "model_module": "@jupyter-widgets/controls",
          "model_name": "FloatProgressModel",
          "model_module_version": "1.5.0",
          "state": {
            "_view_name": "ProgressView",
            "style": "IPY_MODEL_43130b0174144be58bbfd3f2bdebe341",
            "_dom_classes": [],
            "description": "",
            "_model_name": "FloatProgressModel",
            "bar_style": "success",
            "max": 170498071,
            "_view_module": "@jupyter-widgets/controls",
            "_model_module_version": "1.5.0",
            "value": 170498071,
            "_view_count": null,
            "_view_module_version": "1.5.0",
            "orientation": "horizontal",
            "min": 0,
            "description_tooltip": null,
            "_model_module": "@jupyter-widgets/controls",
            "layout": "IPY_MODEL_81a9f5befd8647c7bc7d52fdfeda100b"
          }
        },
        "c8cd0fccc23848f0bf84a54f47d58fe2": {
          "model_module": "@jupyter-widgets/controls",
          "model_name": "HTMLModel",
          "model_module_version": "1.5.0",
          "state": {
            "_view_name": "HTMLView",
            "style": "IPY_MODEL_3dc35c1e6dfa49dd978f62f232f68a02",
            "_dom_classes": [],
            "description": "",
            "_model_name": "HTMLModel",
            "placeholder": "​",
            "_view_module": "@jupyter-widgets/controls",
            "_model_module_version": "1.5.0",
            "value": " 170499072/? [00:02&lt;00:00, 78674239.12it/s]",
            "_view_count": null,
            "_view_module_version": "1.5.0",
            "description_tooltip": null,
            "_model_module": "@jupyter-widgets/controls",
            "layout": "IPY_MODEL_b2394efbc5c64cfe99056d80aa95364a"
          }
        },
        "466cdadce7da4ed5a2756f372753be82": {
          "model_module": "@jupyter-widgets/controls",
          "model_name": "DescriptionStyleModel",
          "model_module_version": "1.5.0",
          "state": {
            "_view_name": "StyleView",
            "_model_name": "DescriptionStyleModel",
            "description_width": "",
            "_view_module": "@jupyter-widgets/base",
            "_model_module_version": "1.5.0",
            "_view_count": null,
            "_view_module_version": "1.2.0",
            "_model_module": "@jupyter-widgets/controls"
          }
        },
        "22bffcb708c7491b8dc760c7625774e2": {
          "model_module": "@jupyter-widgets/base",
          "model_name": "LayoutModel",
          "model_module_version": "1.2.0",
          "state": {
            "_view_name": "LayoutView",
            "grid_template_rows": null,
            "right": null,
            "justify_content": null,
            "_view_module": "@jupyter-widgets/base",
            "overflow": null,
            "_model_module_version": "1.2.0",
            "_view_count": null,
            "flex_flow": null,
            "width": null,
            "min_width": null,
            "border": null,
            "align_items": null,
            "bottom": null,
            "_model_module": "@jupyter-widgets/base",
            "top": null,
            "grid_column": null,
            "overflow_y": null,
            "overflow_x": null,
            "grid_auto_flow": null,
            "grid_area": null,
            "grid_template_columns": null,
            "flex": null,
            "_model_name": "LayoutModel",
            "justify_items": null,
            "grid_row": null,
            "max_height": null,
            "align_content": null,
            "visibility": null,
            "align_self": null,
            "height": null,
            "min_height": null,
            "padding": null,
            "grid_auto_rows": null,
            "grid_gap": null,
            "max_width": null,
            "order": null,
            "_view_module_version": "1.2.0",
            "grid_template_areas": null,
            "object_position": null,
            "object_fit": null,
            "grid_auto_columns": null,
            "margin": null,
            "display": null,
            "left": null
          }
        },
        "43130b0174144be58bbfd3f2bdebe341": {
          "model_module": "@jupyter-widgets/controls",
          "model_name": "ProgressStyleModel",
          "model_module_version": "1.5.0",
          "state": {
            "_view_name": "StyleView",
            "_model_name": "ProgressStyleModel",
            "description_width": "",
            "_view_module": "@jupyter-widgets/base",
            "_model_module_version": "1.5.0",
            "_view_count": null,
            "_view_module_version": "1.2.0",
            "bar_color": null,
            "_model_module": "@jupyter-widgets/controls"
          }
        },
        "81a9f5befd8647c7bc7d52fdfeda100b": {
          "model_module": "@jupyter-widgets/base",
          "model_name": "LayoutModel",
          "model_module_version": "1.2.0",
          "state": {
            "_view_name": "LayoutView",
            "grid_template_rows": null,
            "right": null,
            "justify_content": null,
            "_view_module": "@jupyter-widgets/base",
            "overflow": null,
            "_model_module_version": "1.2.0",
            "_view_count": null,
            "flex_flow": null,
            "width": null,
            "min_width": null,
            "border": null,
            "align_items": null,
            "bottom": null,
            "_model_module": "@jupyter-widgets/base",
            "top": null,
            "grid_column": null,
            "overflow_y": null,
            "overflow_x": null,
            "grid_auto_flow": null,
            "grid_area": null,
            "grid_template_columns": null,
            "flex": null,
            "_model_name": "LayoutModel",
            "justify_items": null,
            "grid_row": null,
            "max_height": null,
            "align_content": null,
            "visibility": null,
            "align_self": null,
            "height": null,
            "min_height": null,
            "padding": null,
            "grid_auto_rows": null,
            "grid_gap": null,
            "max_width": null,
            "order": null,
            "_view_module_version": "1.2.0",
            "grid_template_areas": null,
            "object_position": null,
            "object_fit": null,
            "grid_auto_columns": null,
            "margin": null,
            "display": null,
            "left": null
          }
        },
        "3dc35c1e6dfa49dd978f62f232f68a02": {
          "model_module": "@jupyter-widgets/controls",
          "model_name": "DescriptionStyleModel",
          "model_module_version": "1.5.0",
          "state": {
            "_view_name": "StyleView",
            "_model_name": "DescriptionStyleModel",
            "description_width": "",
            "_view_module": "@jupyter-widgets/base",
            "_model_module_version": "1.5.0",
            "_view_count": null,
            "_view_module_version": "1.2.0",
            "_model_module": "@jupyter-widgets/controls"
          }
        },
        "b2394efbc5c64cfe99056d80aa95364a": {
          "model_module": "@jupyter-widgets/base",
          "model_name": "LayoutModel",
          "model_module_version": "1.2.0",
          "state": {
            "_view_name": "LayoutView",
            "grid_template_rows": null,
            "right": null,
            "justify_content": null,
            "_view_module": "@jupyter-widgets/base",
            "overflow": null,
            "_model_module_version": "1.2.0",
            "_view_count": null,
            "flex_flow": null,
            "width": null,
            "min_width": null,
            "border": null,
            "align_items": null,
            "bottom": null,
            "_model_module": "@jupyter-widgets/base",
            "top": null,
            "grid_column": null,
            "overflow_y": null,
            "overflow_x": null,
            "grid_auto_flow": null,
            "grid_area": null,
            "grid_template_columns": null,
            "flex": null,
            "_model_name": "LayoutModel",
            "justify_items": null,
            "grid_row": null,
            "max_height": null,
            "align_content": null,
            "visibility": null,
            "align_self": null,
            "height": null,
            "min_height": null,
            "padding": null,
            "grid_auto_rows": null,
            "grid_gap": null,
            "max_width": null,
            "order": null,
            "_view_module_version": "1.2.0",
            "grid_template_areas": null,
            "object_position": null,
            "object_fit": null,
            "grid_auto_columns": null,
            "margin": null,
            "display": null,
            "left": null
          }
        }
      }
    }
  },
  "nbformat": 4,
  "nbformat_minor": 0
}